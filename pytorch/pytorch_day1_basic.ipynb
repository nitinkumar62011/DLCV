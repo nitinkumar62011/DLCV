{
 "cells": [
  {
   "cell_type": "code",
   "execution_count": 3,
   "metadata": {},
   "outputs": [
    {
     "name": "stdout",
     "output_type": "stream",
     "text": [
      "Collecting torch\n",
      "  Downloading torch-2.2.2-cp312-cp312-win_amd64.whl.metadata (26 kB)\n",
      "Collecting filelock (from torch)\n",
      "  Downloading filelock-3.13.4-py3-none-any.whl.metadata (2.8 kB)\n",
      "Requirement already satisfied: typing-extensions>=4.8.0 in c:\\users\\hp\\desktop\\dlcv\\dlcv\\mnist\\env\\lib\\site-packages (from torch) (4.11.0)\n",
      "Collecting sympy (from torch)\n",
      "  Downloading sympy-1.12-py3-none-any.whl.metadata (12 kB)\n",
      "Collecting networkx (from torch)\n",
      "  Downloading networkx-3.3-py3-none-any.whl.metadata (5.1 kB)\n",
      "Collecting jinja2 (from torch)\n",
      "  Using cached Jinja2-3.1.3-py3-none-any.whl.metadata (3.3 kB)\n",
      "Collecting fsspec (from torch)\n",
      "  Downloading fsspec-2024.3.1-py3-none-any.whl.metadata (6.8 kB)\n",
      "Collecting MarkupSafe>=2.0 (from jinja2->torch)\n",
      "  Downloading MarkupSafe-2.1.5-cp312-cp312-win_amd64.whl.metadata (3.1 kB)\n",
      "Collecting mpmath>=0.19 (from sympy->torch)\n",
      "  Downloading mpmath-1.3.0-py3-none-any.whl.metadata (8.6 kB)\n",
      "Downloading torch-2.2.2-cp312-cp312-win_amd64.whl (198.5 MB)\n",
      "   ---------------------------------------- 0.0/198.5 MB ? eta -:--:--\n",
      "   ---------------------------------------- 0.3/198.5 MB 10.6 MB/s eta 0:00:19\n",
      "   ---------------------------------------- 1.0/198.5 MB 13.3 MB/s eta 0:00:15\n",
      "   ---------------------------------------- 1.7/198.5 MB 13.4 MB/s eta 0:00:15\n",
      "   ---------------------------------------- 2.4/198.5 MB 15.2 MB/s eta 0:00:13\n",
      "    --------------------------------------- 3.1/198.5 MB 15.1 MB/s eta 0:00:13\n",
      "    --------------------------------------- 3.8/198.5 MB 16.1 MB/s eta 0:00:13\n",
      "    --------------------------------------- 4.9/198.5 MB 17.3 MB/s eta 0:00:12\n",
      "   - -------------------------------------- 5.7/198.5 MB 17.4 MB/s eta 0:00:12\n",
      "   - -------------------------------------- 6.9/198.5 MB 18.4 MB/s eta 0:00:11\n",
      "   - -------------------------------------- 8.2/198.5 MB 19.3 MB/s eta 0:00:10\n",
      "   - -------------------------------------- 9.6/198.5 MB 20.3 MB/s eta 0:00:10\n",
      "   -- ------------------------------------- 10.7/198.5 MB 21.1 MB/s eta 0:00:09\n",
      "   -- ------------------------------------- 11.6/198.5 MB 21.1 MB/s eta 0:00:09\n",
      "   -- ------------------------------------- 13.3/198.5 MB 24.2 MB/s eta 0:00:08\n",
      "   -- ------------------------------------- 14.5/198.5 MB 25.2 MB/s eta 0:00:08\n",
      "   --- ------------------------------------ 15.7/198.5 MB 24.3 MB/s eta 0:00:08\n",
      "   --- ------------------------------------ 17.0/198.5 MB 26.2 MB/s eta 0:00:07\n",
      "   --- ------------------------------------ 18.5/198.5 MB 26.2 MB/s eta 0:00:07\n",
      "   --- ------------------------------------ 19.8/198.5 MB 26.2 MB/s eta 0:00:07\n",
      "   ---- ----------------------------------- 21.2/198.5 MB 26.2 MB/s eta 0:00:07\n",
      "   ---- ----------------------------------- 22.3/198.5 MB 27.3 MB/s eta 0:00:07\n",
      "   ---- ----------------------------------- 23.4/198.5 MB 26.2 MB/s eta 0:00:07\n",
      "   ---- ----------------------------------- 24.6/198.5 MB 26.2 MB/s eta 0:00:07\n",
      "   ----- ---------------------------------- 25.9/198.5 MB 27.3 MB/s eta 0:00:07\n",
      "   ----- ---------------------------------- 27.2/198.5 MB 26.2 MB/s eta 0:00:07\n",
      "   ----- ---------------------------------- 28.4/198.5 MB 27.3 MB/s eta 0:00:07\n",
      "   ----- ---------------------------------- 29.5/198.5 MB 27.3 MB/s eta 0:00:07\n",
      "   ------ --------------------------------- 31.2/198.5 MB 27.3 MB/s eta 0:00:07\n",
      "   ------ --------------------------------- 32.1/198.5 MB 27.3 MB/s eta 0:00:07\n",
      "   ------ --------------------------------- 33.5/198.5 MB 27.3 MB/s eta 0:00:07\n",
      "   ------ --------------------------------- 34.7/198.5 MB 27.3 MB/s eta 0:00:07\n",
      "   ------- -------------------------------- 36.0/198.5 MB 27.3 MB/s eta 0:00:06\n",
      "   ------- -------------------------------- 37.4/198.5 MB 27.3 MB/s eta 0:00:06\n",
      "   ------- -------------------------------- 38.4/198.5 MB 27.3 MB/s eta 0:00:06\n",
      "   -------- ------------------------------- 39.8/198.5 MB 27.3 MB/s eta 0:00:06\n",
      "   -------- ------------------------------- 40.9/198.5 MB 27.3 MB/s eta 0:00:06\n",
      "   -------- ------------------------------- 42.3/198.5 MB 27.3 MB/s eta 0:00:06\n",
      "   -------- ------------------------------- 43.7/198.5 MB 26.2 MB/s eta 0:00:06\n",
      "   --------- ------------------------------ 45.0/198.5 MB 26.2 MB/s eta 0:00:06\n",
      "   --------- ------------------------------ 46.3/198.5 MB 27.3 MB/s eta 0:00:06\n",
      "   --------- ------------------------------ 47.7/198.5 MB 27.3 MB/s eta 0:00:06\n",
      "   --------- ------------------------------ 48.8/198.5 MB 27.3 MB/s eta 0:00:06\n",
      "   --------- ------------------------------ 49.4/198.5 MB 26.2 MB/s eta 0:00:06\n",
      "   ---------- ----------------------------- 50.8/198.5 MB 26.2 MB/s eta 0:00:06\n",
      "   ---------- ----------------------------- 52.0/198.5 MB 27.3 MB/s eta 0:00:06\n",
      "   ---------- ----------------------------- 53.5/198.5 MB 26.2 MB/s eta 0:00:06\n",
      "   ----------- ---------------------------- 54.6/198.5 MB 26.2 MB/s eta 0:00:06\n",
      "   ----------- ---------------------------- 55.5/198.5 MB 24.3 MB/s eta 0:00:06\n",
      "   ----------- ---------------------------- 56.9/198.5 MB 25.2 MB/s eta 0:00:06\n",
      "   ----------- ---------------------------- 58.0/198.5 MB 24.2 MB/s eta 0:00:06\n",
      "   ----------- ---------------------------- 59.5/198.5 MB 26.2 MB/s eta 0:00:06\n",
      "   ------------ --------------------------- 60.9/198.5 MB 26.2 MB/s eta 0:00:06\n",
      "   ------------ --------------------------- 62.2/198.5 MB 26.2 MB/s eta 0:00:06\n",
      "   ------------ --------------------------- 63.6/198.5 MB 26.2 MB/s eta 0:00:06\n",
      "   ------------- -------------------------- 64.9/198.5 MB 27.3 MB/s eta 0:00:05\n",
      "   ------------- -------------------------- 66.3/198.5 MB 28.5 MB/s eta 0:00:05\n",
      "   ------------- -------------------------- 67.7/198.5 MB 27.3 MB/s eta 0:00:05\n",
      "   ------------- -------------------------- 68.8/198.5 MB 26.2 MB/s eta 0:00:05\n",
      "   -------------- ------------------------- 70.0/198.5 MB 27.3 MB/s eta 0:00:05\n",
      "   -------------- ------------------------- 71.1/198.5 MB 27.3 MB/s eta 0:00:05\n",
      "   -------------- ------------------------- 72.1/198.5 MB 26.2 MB/s eta 0:00:05\n",
      "   -------------- ------------------------- 73.7/198.5 MB 27.3 MB/s eta 0:00:05\n",
      "   --------------- ------------------------ 75.0/198.5 MB 27.3 MB/s eta 0:00:05\n",
      "   --------------- ------------------------ 76.1/198.5 MB 27.3 MB/s eta 0:00:05\n",
      "   --------------- ------------------------ 77.5/198.5 MB 26.2 MB/s eta 0:00:05\n",
      "   --------------- ------------------------ 78.3/198.5 MB 26.2 MB/s eta 0:00:05\n",
      "   ---------------- ----------------------- 79.8/198.5 MB 25.1 MB/s eta 0:00:05\n",
      "   ---------------- ----------------------- 81.2/198.5 MB 26.2 MB/s eta 0:00:05\n",
      "   ---------------- ----------------------- 82.6/198.5 MB 27.3 MB/s eta 0:00:05\n",
      "   ---------------- ----------------------- 84.0/198.5 MB 26.2 MB/s eta 0:00:05\n",
      "   ----------------- ---------------------- 85.3/198.5 MB 27.3 MB/s eta 0:00:05\n",
      "   ----------------- ---------------------- 86.5/198.5 MB 27.3 MB/s eta 0:00:05\n",
      "   ----------------- ---------------------- 87.9/198.5 MB 27.3 MB/s eta 0:00:05\n",
      "   ------------------ --------------------- 89.4/198.5 MB 28.4 MB/s eta 0:00:04\n",
      "   ------------------ --------------------- 90.8/198.5 MB 28.4 MB/s eta 0:00:04\n",
      "   ------------------ --------------------- 92.2/198.5 MB 29.7 MB/s eta 0:00:04\n",
      "   ------------------ --------------------- 93.4/198.5 MB 29.8 MB/s eta 0:00:04\n",
      "   ------------------- -------------------- 94.5/198.5 MB 28.5 MB/s eta 0:00:04\n",
      "   ------------------- -------------------- 95.6/198.5 MB 28.5 MB/s eta 0:00:04\n",
      "   ------------------- -------------------- 97.0/198.5 MB 28.5 MB/s eta 0:00:04\n",
      "   ------------------- -------------------- 98.4/198.5 MB 28.5 MB/s eta 0:00:04\n",
      "   -------------------- ------------------- 99.8/198.5 MB 27.3 MB/s eta 0:00:04\n",
      "   ------------------- ------------------- 101.2/198.5 MB 27.3 MB/s eta 0:00:04\n",
      "   -------------------- ------------------ 102.6/198.5 MB 27.3 MB/s eta 0:00:04\n",
      "   -------------------- ------------------ 103.9/198.5 MB 27.3 MB/s eta 0:00:04\n",
      "   -------------------- ------------------ 105.4/198.5 MB 27.3 MB/s eta 0:00:04\n",
      "   -------------------- ------------------ 106.5/198.5 MB 28.4 MB/s eta 0:00:04\n",
      "   --------------------- ----------------- 107.7/198.5 MB 27.3 MB/s eta 0:00:04\n",
      "   --------------------- ----------------- 109.1/198.5 MB 27.3 MB/s eta 0:00:04\n",
      "   --------------------- ----------------- 110.4/198.5 MB 27.3 MB/s eta 0:00:04\n",
      "   --------------------- ----------------- 111.8/198.5 MB 27.3 MB/s eta 0:00:04\n",
      "   ---------------------- ---------------- 113.1/198.5 MB 28.5 MB/s eta 0:00:03\n",
      "   ---------------------- ---------------- 114.5/198.5 MB 27.3 MB/s eta 0:00:04\n",
      "   ---------------------- ---------------- 115.9/198.5 MB 29.7 MB/s eta 0:00:03\n",
      "   ----------------------- --------------- 117.2/198.5 MB 27.3 MB/s eta 0:00:03\n",
      "   ----------------------- --------------- 118.4/198.5 MB 27.3 MB/s eta 0:00:03\n",
      "   ----------------------- --------------- 119.6/198.5 MB 27.3 MB/s eta 0:00:03\n",
      "   ----------------------- --------------- 120.9/198.5 MB 27.3 MB/s eta 0:00:03\n",
      "   ------------------------ -------------- 122.3/198.5 MB 27.3 MB/s eta 0:00:03\n",
      "   ------------------------ -------------- 123.6/198.5 MB 27.3 MB/s eta 0:00:03\n",
      "   ------------------------ -------------- 125.0/198.5 MB 27.3 MB/s eta 0:00:03\n",
      "   ------------------------ -------------- 126.5/198.5 MB 27.3 MB/s eta 0:00:03\n",
      "   ------------------------- ------------- 128.1/198.5 MB 28.5 MB/s eta 0:00:03\n",
      "   ------------------------- ------------- 129.3/198.5 MB 28.5 MB/s eta 0:00:03\n",
      "   ------------------------- ------------- 130.8/198.5 MB 28.4 MB/s eta 0:00:03\n",
      "   ------------------------- ------------- 132.1/198.5 MB 28.4 MB/s eta 0:00:03\n",
      "   -------------------------- ------------ 133.4/198.5 MB 28.4 MB/s eta 0:00:03\n",
      "   -------------------------- ------------ 134.5/198.5 MB 28.5 MB/s eta 0:00:03\n",
      "   -------------------------- ------------ 135.8/198.5 MB 28.5 MB/s eta 0:00:03\n",
      "   -------------------------- ------------ 137.1/198.5 MB 27.3 MB/s eta 0:00:03\n",
      "   --------------------------- ----------- 138.3/198.5 MB 27.3 MB/s eta 0:00:03\n",
      "   --------------------------- ----------- 139.7/198.5 MB 27.3 MB/s eta 0:00:03\n",
      "   --------------------------- ----------- 140.9/198.5 MB 27.3 MB/s eta 0:00:03\n",
      "   --------------------------- ----------- 142.3/198.5 MB 27.3 MB/s eta 0:00:03\n",
      "   ---------------------------- ---------- 143.5/198.5 MB 28.5 MB/s eta 0:00:02\n",
      "   ---------------------------- ---------- 144.9/198.5 MB 27.3 MB/s eta 0:00:02\n",
      "   ---------------------------- ---------- 146.3/198.5 MB 27.3 MB/s eta 0:00:02\n",
      "   ----------------------------- --------- 147.9/198.5 MB 27.3 MB/s eta 0:00:02\n",
      "   ----------------------------- --------- 149.1/198.5 MB 27.3 MB/s eta 0:00:02\n",
      "   ----------------------------- --------- 150.3/198.5 MB 27.3 MB/s eta 0:00:02\n",
      "   ----------------------------- --------- 151.4/198.5 MB 27.3 MB/s eta 0:00:02\n",
      "   ----------------------------- --------- 152.7/198.5 MB 27.3 MB/s eta 0:00:02\n",
      "   ------------------------------ -------- 153.9/198.5 MB 27.3 MB/s eta 0:00:02\n",
      "   ------------------------------ -------- 155.2/198.5 MB 27.3 MB/s eta 0:00:02\n",
      "   ------------------------------ -------- 156.1/198.5 MB 27.3 MB/s eta 0:00:02\n",
      "   ------------------------------ -------- 157.5/198.5 MB 27.3 MB/s eta 0:00:02\n",
      "   ------------------------------- ------- 158.9/198.5 MB 27.3 MB/s eta 0:00:02\n",
      "   ------------------------------- ------- 160.2/198.5 MB 27.3 MB/s eta 0:00:02\n",
      "   ------------------------------- ------- 161.7/198.5 MB 28.4 MB/s eta 0:00:02\n",
      "   -------------------------------- ------ 163.1/198.5 MB 28.4 MB/s eta 0:00:02\n",
      "   -------------------------------- ------ 164.5/198.5 MB 27.3 MB/s eta 0:00:02\n",
      "   -------------------------------- ------ 165.9/198.5 MB 27.3 MB/s eta 0:00:02\n",
      "   -------------------------------- ------ 167.3/198.5 MB 28.5 MB/s eta 0:00:02\n",
      "   --------------------------------- ----- 168.6/198.5 MB 26.2 MB/s eta 0:00:02\n",
      "   --------------------------------- ----- 170.0/198.5 MB 27.3 MB/s eta 0:00:02\n",
      "   --------------------------------- ----- 171.2/198.5 MB 28.4 MB/s eta 0:00:01\n",
      "   --------------------------------- ----- 172.5/198.5 MB 28.5 MB/s eta 0:00:01\n",
      "   ---------------------------------- ---- 173.8/198.5 MB 27.3 MB/s eta 0:00:01\n",
      "   ---------------------------------- ---- 175.1/198.5 MB 26.2 MB/s eta 0:00:01\n",
      "   ---------------------------------- ---- 176.4/198.5 MB 27.3 MB/s eta 0:00:01\n",
      "   ---------------------------------- ---- 177.8/198.5 MB 27.3 MB/s eta 0:00:01\n",
      "   ----------------------------------- --- 179.2/198.5 MB 27.3 MB/s eta 0:00:01\n",
      "   ----------------------------------- --- 180.6/198.5 MB 27.3 MB/s eta 0:00:01\n",
      "   ----------------------------------- --- 181.9/198.5 MB 28.5 MB/s eta 0:00:01\n",
      "   ----------------------------------- --- 183.2/198.5 MB 27.3 MB/s eta 0:00:01\n",
      "   ------------------------------------ -- 184.3/198.5 MB 27.3 MB/s eta 0:00:01\n",
      "   ------------------------------------ -- 185.3/198.5 MB 27.3 MB/s eta 0:00:01\n",
      "   ------------------------------------ -- 186.8/198.5 MB 27.3 MB/s eta 0:00:01\n",
      "   ------------------------------------ -- 188.0/198.5 MB 27.3 MB/s eta 0:00:01\n",
      "   ------------------------------------- - 189.6/198.5 MB 27.3 MB/s eta 0:00:01\n",
      "   ------------------------------------- - 190.9/198.5 MB 27.3 MB/s eta 0:00:01\n",
      "   ------------------------------------- - 192.0/198.5 MB 27.3 MB/s eta 0:00:01\n",
      "   ------------------------------------- - 193.2/198.5 MB 27.3 MB/s eta 0:00:01\n",
      "   --------------------------------------  194.6/198.5 MB 27.3 MB/s eta 0:00:01\n",
      "   --------------------------------------  196.0/198.5 MB 28.4 MB/s eta 0:00:01\n",
      "   --------------------------------------  197.3/198.5 MB 28.4 MB/s eta 0:00:01\n",
      "   --------------------------------------  198.5/198.5 MB 27.3 MB/s eta 0:00:01\n",
      "   --------------------------------------  198.5/198.5 MB 27.3 MB/s eta 0:00:01\n",
      "   --------------------------------------  198.5/198.5 MB 27.3 MB/s eta 0:00:01\n",
      "   --------------------------------------  198.5/198.5 MB 27.3 MB/s eta 0:00:01\n",
      "   --------------------------------------  198.5/198.5 MB 27.3 MB/s eta 0:00:01\n",
      "   --------------------------------------  198.5/198.5 MB 27.3 MB/s eta 0:00:01\n",
      "   --------------------------------------  198.5/198.5 MB 27.3 MB/s eta 0:00:01\n",
      "   --------------------------------------  198.5/198.5 MB 27.3 MB/s eta 0:00:01\n",
      "   --------------------------------------  198.5/198.5 MB 27.3 MB/s eta 0:00:01\n",
      "   --------------------------------------  198.5/198.5 MB 27.3 MB/s eta 0:00:01\n",
      "   --------------------------------------  198.5/198.5 MB 27.3 MB/s eta 0:00:01\n",
      "   --------------------------------------- 198.5/198.5 MB 11.7 MB/s eta 0:00:00\n",
      "Downloading filelock-3.13.4-py3-none-any.whl (11 kB)\n",
      "Downloading fsspec-2024.3.1-py3-none-any.whl (171 kB)\n",
      "   ---------------------------------------- 0.0/172.0 kB ? eta -:--:--\n",
      "   --------------------------------------- 172.0/172.0 kB 10.8 MB/s eta 0:00:00\n",
      "Using cached Jinja2-3.1.3-py3-none-any.whl (133 kB)\n",
      "Downloading networkx-3.3-py3-none-any.whl (1.7 MB)\n",
      "   ---------------------------------------- 0.0/1.7 MB ? eta -:--:--\n",
      "   ---------------------------------------  1.7/1.7 MB 35.5 MB/s eta 0:00:01\n",
      "   ---------------------------------------- 1.7/1.7 MB 21.7 MB/s eta 0:00:00\n",
      "Downloading sympy-1.12-py3-none-any.whl (5.7 MB)\n",
      "   ---------------------------------------- 0.0/5.7 MB ? eta -:--:--\n",
      "   -------- ------------------------------- 1.2/5.7 MB 38.6 MB/s eta 0:00:01\n",
      "   ---------------- ----------------------- 2.4/5.7 MB 30.7 MB/s eta 0:00:01\n",
      "   -------------------------- ------------- 3.7/5.7 MB 29.8 MB/s eta 0:00:01\n",
      "   ------------------------------------ --- 5.2/5.7 MB 30.6 MB/s eta 0:00:01\n",
      "   ---------------------------------------- 5.7/5.7 MB 26.3 MB/s eta 0:00:00\n",
      "Downloading MarkupSafe-2.1.5-cp312-cp312-win_amd64.whl (17 kB)\n",
      "Downloading mpmath-1.3.0-py3-none-any.whl (536 kB)\n",
      "   ---------------------------------------- 0.0/536.2 kB ? eta -:--:--\n",
      "   --------------------------------------- 536.2/536.2 kB 17.0 MB/s eta 0:00:00\n",
      "Installing collected packages: mpmath, sympy, networkx, MarkupSafe, fsspec, filelock, jinja2, torch\n",
      "Successfully installed MarkupSafe-2.1.5 filelock-3.13.4 fsspec-2024.3.1 jinja2-3.1.3 mpmath-1.3.0 networkx-3.3 sympy-1.12 torch-2.2.2\n"
     ]
    },
    {
     "name": "stderr",
     "output_type": "stream",
     "text": [
      "c:\\USERS\\HP\\DESKTOP\\DLCV\\DLCV\\MNIST\\ENV\\Lib\\site-packages\\torch\\nn\\modules\\transformer.py:20: UserWarning: Failed to initialize NumPy: No module named 'numpy' (Triggered internally at ..\\torch\\csrc\\utils\\tensor_numpy.cpp:84.)\n",
      "  device: torch.device = torch.device(torch._C._get_default_device()),  # torch.device('cpu'),\n"
     ]
    }
   ],
   "source": [
    "!pip install torch\n",
    "import torch"
   ]
  },
  {
   "cell_type": "code",
   "execution_count": 1,
   "metadata": {},
   "outputs": [
    {
     "data": {
      "text/plain": [
       "True"
      ]
     },
     "execution_count": 1,
     "metadata": {},
     "output_type": "execute_result"
    }
   ],
   "source": [
    "import torch\n",
    "torch.cuda.is_available()"
   ]
  },
  {
   "cell_type": "code",
   "execution_count": 2,
   "metadata": {},
   "outputs": [],
   "source": [
    "#!pip3 install torch torchvision torchaudio --index-url https://download.pytorch.org/whl/cu118"
   ]
  },
  {
   "cell_type": "code",
   "execution_count": 3,
   "metadata": {},
   "outputs": [
    {
     "name": "stdout",
     "output_type": "stream",
     "text": [
      "Sun Apr 14 02:06:20 2024       \n",
      "+-----------------------------------------------------------------------------------------+\n",
      "| NVIDIA-SMI 551.78                 Driver Version: 551.78         CUDA Version: 12.4     |\n",
      "|-----------------------------------------+------------------------+----------------------+\n",
      "| GPU  Name                     TCC/WDDM  | Bus-Id          Disp.A | Volatile Uncorr. ECC |\n",
      "| Fan  Temp   Perf          Pwr:Usage/Cap |           Memory-Usage | GPU-Util  Compute M. |\n",
      "|                                         |                        |               MIG M. |\n",
      "|=========================================+========================+======================|\n",
      "|   0  NVIDIA GeForce MX110         WDDM  |   00000000:01:00.0 Off |                  N/A |\n",
      "| N/A    0C    P8             N/A /  200W |       0MiB /   2048MiB |      0%      Default |\n",
      "|                                         |                        |                  N/A |\n",
      "+-----------------------------------------+------------------------+----------------------+\n",
      "                                                                                         \n",
      "+-----------------------------------------------------------------------------------------+\n",
      "| Processes:                                                                              |\n",
      "|  GPU   GI   CI        PID   Type   Process name                              GPU Memory |\n",
      "|        ID   ID                                                               Usage      |\n",
      "|=========================================================================================|\n",
      "|    0   N/A  N/A     19604    C+G   ...ience\\NVIDIA GeForce Experience.exe      N/A      |\n",
      "+-----------------------------------------------------------------------------------------+\n"
     ]
    }
   ],
   "source": [
    "!nvidia-smi"
   ]
  },
  {
   "cell_type": "code",
   "execution_count": 4,
   "metadata": {},
   "outputs": [
    {
     "data": {
      "text/plain": [
       "tensor([[[0.1900, 0.2115, 0.1153, 0.7070],\n",
       "         [0.0300, 0.3769, 0.4199, 0.1668],\n",
       "         [0.8227, 0.1048, 0.9594, 0.3902]]])"
      ]
     },
     "execution_count": 4,
     "metadata": {},
     "output_type": "execute_result"
    }
   ],
   "source": [
    "tensor=torch.rand(1,3,4)\n",
    "tensor"
   ]
  },
  {
   "cell_type": "code",
   "execution_count": 6,
   "metadata": {},
   "outputs": [
    {
     "data": {
      "text/plain": [
       "tensor([3, 4], device='cuda:0')"
      ]
     },
     "execution_count": 6,
     "metadata": {},
     "output_type": "execute_result"
    }
   ],
   "source": [
    "torch.tensor([3,4],device='cuda')"
   ]
  },
  {
   "cell_type": "code",
   "execution_count": 7,
   "metadata": {},
   "outputs": [],
   "source": [
    "t = torch.rand(5, 3)\n",
    "device = torch.device(\"cuda:0\" if torch.cuda.is_available() else \"cpu\")\n",
    "t = t.to(device)"
   ]
  },
  {
   "cell_type": "code",
   "execution_count": 8,
   "metadata": {},
   "outputs": [
    {
     "name": "stdout",
     "output_type": "stream",
     "text": [
      "-1\n"
     ]
    }
   ],
   "source": [
    "print(tensor.get_device())"
   ]
  },
  {
   "cell_type": "code",
   "execution_count": 9,
   "metadata": {},
   "outputs": [
    {
     "data": {
      "text/plain": [
       "'NVIDIA GeForce MX110'"
      ]
     },
     "execution_count": 9,
     "metadata": {},
     "output_type": "execute_result"
    }
   ],
   "source": [
    "torch.cuda.get_device_name(0)"
   ]
  },
  {
   "cell_type": "code",
   "execution_count": 10,
   "metadata": {},
   "outputs": [
    {
     "data": {
      "text/plain": [
       "1"
      ]
     },
     "execution_count": 10,
     "metadata": {},
     "output_type": "execute_result"
    }
   ],
   "source": [
    "torch.cuda.device_count()\n"
   ]
  },
  {
   "cell_type": "code",
   "execution_count": 11,
   "metadata": {},
   "outputs": [
    {
     "data": {
      "text/plain": [
       "0"
      ]
     },
     "execution_count": 11,
     "metadata": {},
     "output_type": "execute_result"
    }
   ],
   "source": [
    "torch.cuda.current_device()\n"
   ]
  },
  {
   "cell_type": "code",
   "execution_count": 12,
   "metadata": {},
   "outputs": [
    {
     "name": "stdout",
     "output_type": "stream",
     "text": [
      "Using device: cuda\n",
      "\n",
      "NVIDIA GeForce MX110\n",
      "Memory Usage:\n",
      "Allocated: 0.0 GB\n",
      "Cached:    0.0 GB\n"
     ]
    }
   ],
   "source": [
    "# setting device on GPU if available, else CPU\n",
    "device = torch.device('cuda' if torch.cuda.is_available() else 'cpu')\n",
    "print('Using device:', device)\n",
    "print()\n",
    "\n",
    "#Additional Info when using cuda\n",
    "if device.type == 'cuda':\n",
    "    print(torch.cuda.get_device_name(0))\n",
    "    print('Memory Usage:')\n",
    "    print('Allocated:', round(torch.cuda.memory_allocated(0)/1024**3,1), 'GB')\n",
    "    print('Cached:   ', round(torch.cuda.memory_reserved(0)/1024**3,1), 'GB')"
   ]
  },
  {
   "cell_type": "code",
   "execution_count": 13,
   "metadata": {},
   "outputs": [
    {
     "name": "stdout",
     "output_type": "stream",
     "text": [
      "tensor([[-1.7511, -0.8084]])\n",
      "tensor([[1.2000, 0.1877]], device='cuda:0')\n",
      "tensor([[-1.7511, -0.8084]])\n",
      "False\n",
      "tensor([[-1.7511, -0.8084]], device='cuda:0')\n",
      "True\n",
      "True\n"
     ]
    }
   ],
   "source": [
    "import torch\n",
    "import torch.nn as nn\n",
    "dev = torch.device(\"cuda\") if torch.cuda.is_available() else torch.device(\"cpu\")\n",
    "t1 = torch.randn(1,2)\n",
    "t2 = torch.randn(1,2).to(dev)\n",
    "print(t1)  # tensor([[-0.2678,  1.9252]])\n",
    "print(t2)  # tensor([[ 0.5117, -3.6247]], device='cuda:0')\n",
    "t1.to(dev)\n",
    "print(t1)  # tensor([[-0.2678,  1.9252]])\n",
    "print(t1.is_cuda) # False\n",
    "t1 = t1.to(dev)\n",
    "print(t1)  # tensor([[-0.2678,  1.9252]], device='cuda:0')\n",
    "print(t1.is_cuda) # True\n",
    "\n",
    "class M(nn.Module):\n",
    "    def __init__(self):        \n",
    "        super().__init__()        \n",
    "        self.l1 = nn.Linear(1,2)\n",
    "\n",
    "    def forward(self, x):                      \n",
    "        x = self.l1(x)\n",
    "        return x\n",
    "model = M()   # not on cuda\n",
    "model.to(dev) # is on cuda (all parameters)\n",
    "print(next(model.parameters()).is_cuda) # True"
   ]
  },
  {
   "cell_type": "code",
   "execution_count": 14,
   "metadata": {},
   "outputs": [
    {
     "name": "stdout",
     "output_type": "stream",
     "text": [
      "Downloading https://www.cs.toronto.edu/~kriz/cifar-10-python.tar.gz to ./data\\cifar-10-python.tar.gz\n"
     ]
    },
    {
     "name": "stderr",
     "output_type": "stream",
     "text": [
      "100%|██████████| 170498071/170498071 [00:17<00:00, 9664173.05it/s] \n"
     ]
    },
    {
     "name": "stdout",
     "output_type": "stream",
     "text": [
      "Extracting ./data\\cifar-10-python.tar.gz to ./data\n",
      "Files already downloaded and verified\n",
      "[1,  2000] loss: 2.211\n",
      "[1,  4000] loss: 1.870\n",
      "[1,  6000] loss: 1.721\n",
      "[1,  8000] loss: 1.595\n",
      "[1, 10000] loss: 1.541\n",
      "[1, 12000] loss: 1.510\n",
      "[2,  2000] loss: 1.432\n",
      "[2,  4000] loss: 1.396\n",
      "[2,  6000] loss: 1.367\n",
      "[2,  8000] loss: 1.337\n",
      "[2, 10000] loss: 1.307\n",
      "[2, 12000] loss: 1.293\n",
      "Finished Training\n",
      "Accuracy of the network on the 10000 test images: 55 %\n"
     ]
    }
   ],
   "source": [
    "import torch\n",
    "import torchvision\n",
    "import torchvision.transforms as transforms\n",
    "import torch.nn as nn\n",
    "import torch.optim as optim\n",
    "\n",
    "# Define device\n",
    "device = torch.device(\"cuda\" if torch.cuda.is_available() else \"cpu\")\n",
    "\n",
    "# Transform data\n",
    "transform = transforms.Compose(\n",
    "    [transforms.ToTensor(),\n",
    "     transforms.Normalize((0.5, 0.5, 0.5), (0.5, 0.5, 0.5))])\n",
    "\n",
    "# Load CIFAR-10 dataset\n",
    "trainset = torchvision.datasets.CIFAR10(root='./data', train=True,\n",
    "                                        download=True, transform=transform)\n",
    "trainloader = torch.utils.data.DataLoader(trainset, batch_size=4,\n",
    "                                          shuffle=True, num_workers=2)\n",
    "\n",
    "testset = torchvision.datasets.CIFAR10(root='./data', train=False,\n",
    "                                       download=True, transform=transform)\n",
    "testloader = torch.utils.data.DataLoader(testset, batch_size=4,\n",
    "                                         shuffle=False, num_workers=2)\n",
    "\n",
    "classes = ('plane', 'car', 'bird', 'cat',\n",
    "           'deer', 'dog', 'frog', 'horse', 'ship', 'truck')\n",
    "\n",
    "# Define CNN architecture\n",
    "class Net(nn.Module):\n",
    "    def __init__(self):\n",
    "        super(Net, self).__init__()\n",
    "        self.conv1 = nn.Conv2d(3, 6, 5)\n",
    "        self.pool = nn.MaxPool2d(2, 2)\n",
    "        self.conv2 = nn.Conv2d(6, 16, 5)\n",
    "        self.fc1 = nn.Linear(16 * 5 * 5, 120)\n",
    "        self.fc2 = nn.Linear(120, 84)\n",
    "        self.fc3 = nn.Linear(84, 10)\n",
    "\n",
    "    def forward(self, x):\n",
    "        x = self.pool(torch.relu(self.conv1(x)))\n",
    "        x = self.pool(torch.relu(self.conv2(x)))\n",
    "        x = x.view(-1, 16 * 5 * 5)\n",
    "        x = torch.relu(self.fc1(x))\n",
    "        x = torch.relu(self.fc2(x))\n",
    "        x = self.fc3(x)\n",
    "        return x\n",
    "\n",
    "net = Net().to(device)\n",
    "\n",
    "# Define loss function and optimizer\n",
    "criterion = nn.CrossEntropyLoss()\n",
    "optimizer = optim.SGD(net.parameters(), lr=0.001, momentum=0.9)\n",
    "\n",
    "# Train the network\n",
    "for epoch in range(2):  # loop over the dataset multiple times\n",
    "\n",
    "    running_loss = 0.0\n",
    "    for i, data in enumerate(trainloader, 0):\n",
    "        # get the inputs; data is a list of [inputs, labels]\n",
    "        inputs, labels = data[0].to(device), data[1].to(device)\n",
    "\n",
    "        # zero the parameter gradients\n",
    "        optimizer.zero_grad()\n",
    "\n",
    "        # forward + backward + optimize\n",
    "        outputs = net(inputs)\n",
    "        loss = criterion(outputs, labels)\n",
    "        loss.backward()\n",
    "        optimizer.step()\n",
    "\n",
    "        # print statistics\n",
    "        running_loss += loss.item()\n",
    "        if i % 2000 == 1999:    # print every 2000 mini-batches\n",
    "            print('[%d, %5d] loss: %.3f' %\n",
    "                  (epoch + 1, i + 1, running_loss / 2000))\n",
    "            running_loss = 0.0\n",
    "\n",
    "print('Finished Training')\n",
    "\n",
    "# Test the network\n",
    "correct = 0\n",
    "total = 0\n",
    "with torch.no_grad():\n",
    "    for data in testloader:\n",
    "        images, labels = data[0].to(device), data[1].to(device)\n",
    "        outputs = net(images)\n",
    "        _, predicted = torch.max(outputs.data, 1)\n",
    "        total += labels.size(0)\n",
    "        correct += (predicted == labels).sum().item()\n",
    "\n",
    "print('Accuracy of the network on the 10000 test images: %d %%' % (\n",
    "    100 * correct / total))\n"
   ]
  },
  {
   "cell_type": "code",
   "execution_count": null,
   "metadata": {},
   "outputs": [],
   "source": []
  }
 ],
 "metadata": {
  "kernelspec": {
   "display_name": "Python 3",
   "language": "python",
   "name": "python3"
  },
  "language_info": {
   "codemirror_mode": {
    "name": "ipython",
    "version": 3
   },
   "file_extension": ".py",
   "mimetype": "text/x-python",
   "name": "python",
   "nbconvert_exporter": "python",
   "pygments_lexer": "ipython3",
   "version": "3.11.3"
  }
 },
 "nbformat": 4,
 "nbformat_minor": 2
}
