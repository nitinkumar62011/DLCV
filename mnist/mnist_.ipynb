{
 "cells": [
  {
   "cell_type": "code",
   "execution_count": 1,
   "metadata": {},
   "outputs": [
    {
     "name": "stdout",
     "output_type": "stream",
     "text": [
      "Collecting package metadata (current_repodata.json): ...working... done\n",
      "Solving environment: ...working... done\n",
      "\n",
      "## Package Plan ##\n",
      "\n",
      "  environment location: c:\\Users\\hp\\Desktop\\DLCV\\DLCV\\mnist\\env\n",
      "\n",
      "\n",
      "\n",
      "Preparing transaction: ...working... done\n",
      "Verifying transaction: ...working... done\n",
      "Executing transaction: ...working... done\n",
      "#\n",
      "# To activate this environment, use\n",
      "#\n",
      "#     $ conda activate c:\\Users\\hp\\Desktop\\DLCV\\DLCV\\mnist\\env\n",
      "#\n",
      "# To deactivate an active environment, use\n",
      "#\n",
      "#     $ conda deactivate\n",
      "\n"
     ]
    },
    {
     "name": "stderr",
     "output_type": "stream",
     "text": [
      "\n",
      "\n",
      "==> WARNING: A newer version of conda exists. <==\n",
      "  current version: 23.5.2\n",
      "  latest version: 24.3.0\n",
      "\n",
      "Please update conda by running\n",
      "\n",
      "    $ conda update -n base -c defaults conda\n",
      "\n",
      "Or to minimize the number of packages updated during conda update use\n",
      "\n",
      "     conda install conda=24.3.0\n",
      "\n",
      "\n"
     ]
    }
   ],
   "source": [
    "!conda create -p env -y"
   ]
  },
  {
   "cell_type": "code",
   "execution_count": 2,
   "metadata": {},
   "outputs": [],
   "source": [
    "!conda activate c:\\Users\\hp\\Desktop\\DLCV\\mnist\\env"
   ]
  },
  {
   "cell_type": "code",
   "execution_count": 3,
   "metadata": {},
   "outputs": [
    {
     "name": "stdout",
     "output_type": "stream",
     "text": [
      "Requirement already satisfied: tensorflow in c:\\users\\hp\\appdata\\local\\packages\\pythonsoftwarefoundation.python.3.11_qbz5n2kfra8p0\\localcache\\local-packages\\python311\\site-packages (2.16.1)\n",
      "Requirement already satisfied: tensorflow-intel==2.16.1 in c:\\users\\hp\\appdata\\local\\packages\\pythonsoftwarefoundation.python.3.11_qbz5n2kfra8p0\\localcache\\local-packages\\python311\\site-packages (from tensorflow) (2.16.1)\n",
      "Requirement already satisfied: absl-py>=1.0.0 in c:\\users\\hp\\appdata\\local\\packages\\pythonsoftwarefoundation.python.3.11_qbz5n2kfra8p0\\localcache\\local-packages\\python311\\site-packages (from tensorflow-intel==2.16.1->tensorflow) (2.1.0)\n",
      "Requirement already satisfied: astunparse>=1.6.0 in c:\\users\\hp\\appdata\\local\\packages\\pythonsoftwarefoundation.python.3.11_qbz5n2kfra8p0\\localcache\\local-packages\\python311\\site-packages (from tensorflow-intel==2.16.1->tensorflow) (1.6.3)\n",
      "Requirement already satisfied: flatbuffers>=23.5.26 in c:\\users\\hp\\appdata\\local\\packages\\pythonsoftwarefoundation.python.3.11_qbz5n2kfra8p0\\localcache\\local-packages\\python311\\site-packages (from tensorflow-intel==2.16.1->tensorflow) (24.3.25)\n",
      "Requirement already satisfied: gast!=0.5.0,!=0.5.1,!=0.5.2,>=0.2.1 in c:\\users\\hp\\appdata\\local\\packages\\pythonsoftwarefoundation.python.3.11_qbz5n2kfra8p0\\localcache\\local-packages\\python311\\site-packages (from tensorflow-intel==2.16.1->tensorflow) (0.5.4)\n",
      "Requirement already satisfied: google-pasta>=0.1.1 in c:\\users\\hp\\appdata\\local\\packages\\pythonsoftwarefoundation.python.3.11_qbz5n2kfra8p0\\localcache\\local-packages\\python311\\site-packages (from tensorflow-intel==2.16.1->tensorflow) (0.2.0)\n",
      "Requirement already satisfied: h5py>=3.10.0 in c:\\users\\hp\\appdata\\local\\packages\\pythonsoftwarefoundation.python.3.11_qbz5n2kfra8p0\\localcache\\local-packages\\python311\\site-packages (from tensorflow-intel==2.16.1->tensorflow) (3.11.0)\n",
      "Requirement already satisfied: libclang>=13.0.0 in c:\\users\\hp\\appdata\\local\\packages\\pythonsoftwarefoundation.python.3.11_qbz5n2kfra8p0\\localcache\\local-packages\\python311\\site-packages (from tensorflow-intel==2.16.1->tensorflow) (18.1.1)\n",
      "Requirement already satisfied: ml-dtypes~=0.3.1 in c:\\users\\hp\\appdata\\local\\packages\\pythonsoftwarefoundation.python.3.11_qbz5n2kfra8p0\\localcache\\local-packages\\python311\\site-packages (from tensorflow-intel==2.16.1->tensorflow) (0.3.2)\n",
      "Requirement already satisfied: opt-einsum>=2.3.2 in c:\\users\\hp\\appdata\\local\\packages\\pythonsoftwarefoundation.python.3.11_qbz5n2kfra8p0\\localcache\\local-packages\\python311\\site-packages (from tensorflow-intel==2.16.1->tensorflow) (3.3.0)\n",
      "Requirement already satisfied: packaging in c:\\users\\hp\\appdata\\local\\packages\\pythonsoftwarefoundation.python.3.11_qbz5n2kfra8p0\\localcache\\local-packages\\python311\\site-packages (from tensorflow-intel==2.16.1->tensorflow) (23.1)\n",
      "Requirement already satisfied: protobuf!=4.21.0,!=4.21.1,!=4.21.2,!=4.21.3,!=4.21.4,!=4.21.5,<5.0.0dev,>=3.20.3 in c:\\users\\hp\\appdata\\local\\packages\\pythonsoftwarefoundation.python.3.11_qbz5n2kfra8p0\\localcache\\local-packages\\python311\\site-packages (from tensorflow-intel==2.16.1->tensorflow) (4.25.3)\n",
      "Requirement already satisfied: requests<3,>=2.21.0 in c:\\users\\hp\\appdata\\local\\packages\\pythonsoftwarefoundation.python.3.11_qbz5n2kfra8p0\\localcache\\local-packages\\python311\\site-packages (from tensorflow-intel==2.16.1->tensorflow) (2.28.1)\n",
      "Requirement already satisfied: setuptools in c:\\program files\\windowsapps\\pythonsoftwarefoundation.python.3.11_3.11.2544.0_x64__qbz5n2kfra8p0\\lib\\site-packages (from tensorflow-intel==2.16.1->tensorflow) (65.5.0)\n",
      "Requirement already satisfied: six>=1.12.0 in c:\\users\\hp\\appdata\\local\\packages\\pythonsoftwarefoundation.python.3.11_qbz5n2kfra8p0\\localcache\\local-packages\\python311\\site-packages (from tensorflow-intel==2.16.1->tensorflow) (1.16.0)\n",
      "Requirement already satisfied: termcolor>=1.1.0 in c:\\users\\hp\\appdata\\local\\packages\\pythonsoftwarefoundation.python.3.11_qbz5n2kfra8p0\\localcache\\local-packages\\python311\\site-packages (from tensorflow-intel==2.16.1->tensorflow) (2.4.0)\n",
      "Requirement already satisfied: typing-extensions>=3.6.6 in c:\\users\\hp\\appdata\\local\\packages\\pythonsoftwarefoundation.python.3.11_qbz5n2kfra8p0\\localcache\\local-packages\\python311\\site-packages (from tensorflow-intel==2.16.1->tensorflow) (4.10.0)\n",
      "Requirement already satisfied: wrapt>=1.11.0 in c:\\users\\hp\\appdata\\local\\packages\\pythonsoftwarefoundation.python.3.11_qbz5n2kfra8p0\\localcache\\local-packages\\python311\\site-packages (from tensorflow-intel==2.16.1->tensorflow) (1.16.0)\n",
      "Requirement already satisfied: grpcio<2.0,>=1.24.3 in c:\\users\\hp\\appdata\\local\\packages\\pythonsoftwarefoundation.python.3.11_qbz5n2kfra8p0\\localcache\\local-packages\\python311\\site-packages (from tensorflow-intel==2.16.1->tensorflow) (1.62.1)\n",
      "Requirement already satisfied: tensorboard<2.17,>=2.16 in c:\\users\\hp\\appdata\\local\\packages\\pythonsoftwarefoundation.python.3.11_qbz5n2kfra8p0\\localcache\\local-packages\\python311\\site-packages (from tensorflow-intel==2.16.1->tensorflow) (2.16.2)\n",
      "Requirement already satisfied: keras>=3.0.0 in c:\\users\\hp\\appdata\\local\\packages\\pythonsoftwarefoundation.python.3.11_qbz5n2kfra8p0\\localcache\\local-packages\\python311\\site-packages (from tensorflow-intel==2.16.1->tensorflow) (3.2.1)\n",
      "Requirement already satisfied: tensorflow-io-gcs-filesystem>=0.23.1 in c:\\users\\hp\\appdata\\local\\packages\\pythonsoftwarefoundation.python.3.11_qbz5n2kfra8p0\\localcache\\local-packages\\python311\\site-packages (from tensorflow-intel==2.16.1->tensorflow) (0.31.0)\n",
      "Requirement already satisfied: numpy<2.0.0,>=1.23.5 in c:\\users\\hp\\appdata\\local\\packages\\pythonsoftwarefoundation.python.3.11_qbz5n2kfra8p0\\localcache\\local-packages\\python311\\site-packages (from tensorflow-intel==2.16.1->tensorflow) (1.24.1)\n",
      "Requirement already satisfied: wheel<1.0,>=0.23.0 in c:\\users\\hp\\appdata\\local\\packages\\pythonsoftwarefoundation.python.3.11_qbz5n2kfra8p0\\localcache\\local-packages\\python311\\site-packages (from astunparse>=1.6.0->tensorflow-intel==2.16.1->tensorflow) (0.43.0)\n",
      "Requirement already satisfied: rich in c:\\users\\hp\\appdata\\local\\packages\\pythonsoftwarefoundation.python.3.11_qbz5n2kfra8p0\\localcache\\local-packages\\python311\\site-packages (from keras>=3.0.0->tensorflow-intel==2.16.1->tensorflow) (13.7.1)\n",
      "Requirement already satisfied: namex in c:\\users\\hp\\appdata\\local\\packages\\pythonsoftwarefoundation.python.3.11_qbz5n2kfra8p0\\localcache\\local-packages\\python311\\site-packages (from keras>=3.0.0->tensorflow-intel==2.16.1->tensorflow) (0.0.7)\n",
      "Requirement already satisfied: optree in c:\\users\\hp\\appdata\\local\\packages\\pythonsoftwarefoundation.python.3.11_qbz5n2kfra8p0\\localcache\\local-packages\\python311\\site-packages (from keras>=3.0.0->tensorflow-intel==2.16.1->tensorflow) (0.11.0)\n",
      "Requirement already satisfied: charset-normalizer<3,>=2 in c:\\users\\hp\\appdata\\local\\packages\\pythonsoftwarefoundation.python.3.11_qbz5n2kfra8p0\\localcache\\local-packages\\python311\\site-packages (from requests<3,>=2.21.0->tensorflow-intel==2.16.1->tensorflow) (2.1.1)\n",
      "Requirement already satisfied: idna<4,>=2.5 in c:\\users\\hp\\appdata\\local\\packages\\pythonsoftwarefoundation.python.3.11_qbz5n2kfra8p0\\localcache\\local-packages\\python311\\site-packages (from requests<3,>=2.21.0->tensorflow-intel==2.16.1->tensorflow) (3.4)\n",
      "Requirement already satisfied: urllib3<1.27,>=1.21.1 in c:\\users\\hp\\appdata\\local\\packages\\pythonsoftwarefoundation.python.3.11_qbz5n2kfra8p0\\localcache\\local-packages\\python311\\site-packages (from requests<3,>=2.21.0->tensorflow-intel==2.16.1->tensorflow) (1.26.13)\n",
      "Requirement already satisfied: certifi>=2017.4.17 in c:\\users\\hp\\appdata\\local\\packages\\pythonsoftwarefoundation.python.3.11_qbz5n2kfra8p0\\localcache\\local-packages\\python311\\site-packages (from requests<3,>=2.21.0->tensorflow-intel==2.16.1->tensorflow) (2022.12.7)\n",
      "Requirement already satisfied: markdown>=2.6.8 in c:\\users\\hp\\appdata\\local\\packages\\pythonsoftwarefoundation.python.3.11_qbz5n2kfra8p0\\localcache\\local-packages\\python311\\site-packages (from tensorboard<2.17,>=2.16->tensorflow-intel==2.16.1->tensorflow) (3.6)\n",
      "Requirement already satisfied: tensorboard-data-server<0.8.0,>=0.7.0 in c:\\users\\hp\\appdata\\local\\packages\\pythonsoftwarefoundation.python.3.11_qbz5n2kfra8p0\\localcache\\local-packages\\python311\\site-packages (from tensorboard<2.17,>=2.16->tensorflow-intel==2.16.1->tensorflow) (0.7.2)\n",
      "Requirement already satisfied: werkzeug>=1.0.1 in c:\\users\\hp\\appdata\\local\\packages\\pythonsoftwarefoundation.python.3.11_qbz5n2kfra8p0\\localcache\\local-packages\\python311\\site-packages (from tensorboard<2.17,>=2.16->tensorflow-intel==2.16.1->tensorflow) (2.3.6)\n",
      "Requirement already satisfied: MarkupSafe>=2.1.1 in c:\\users\\hp\\appdata\\local\\packages\\pythonsoftwarefoundation.python.3.11_qbz5n2kfra8p0\\localcache\\local-packages\\python311\\site-packages (from werkzeug>=1.0.1->tensorboard<2.17,>=2.16->tensorflow-intel==2.16.1->tensorflow) (2.1.2)\n",
      "Requirement already satisfied: markdown-it-py>=2.2.0 in c:\\users\\hp\\appdata\\local\\packages\\pythonsoftwarefoundation.python.3.11_qbz5n2kfra8p0\\localcache\\local-packages\\python311\\site-packages (from rich->keras>=3.0.0->tensorflow-intel==2.16.1->tensorflow) (3.0.0)\n",
      "Requirement already satisfied: pygments<3.0.0,>=2.13.0 in c:\\users\\hp\\appdata\\local\\packages\\pythonsoftwarefoundation.python.3.11_qbz5n2kfra8p0\\localcache\\local-packages\\python311\\site-packages (from rich->keras>=3.0.0->tensorflow-intel==2.16.1->tensorflow) (2.15.1)\n",
      "Requirement already satisfied: mdurl~=0.1 in c:\\users\\hp\\appdata\\local\\packages\\pythonsoftwarefoundation.python.3.11_qbz5n2kfra8p0\\localcache\\local-packages\\python311\\site-packages (from markdown-it-py>=2.2.0->rich->keras>=3.0.0->tensorflow-intel==2.16.1->tensorflow) (0.1.2)\n"
     ]
    }
   ],
   "source": [
    "!pip install tensorflow"
   ]
  },
  {
   "cell_type": "code",
   "execution_count": 4,
   "metadata": {},
   "outputs": [],
   "source": [
    "import tensorflow\n",
    "from tensorflow import keras \n",
    "from tensorflow.keras import Sequential\n",
    "from tensorflow.keras.layers import  Dense,Flatten"
   ]
  },
  {
   "cell_type": "code",
   "execution_count": 5,
   "metadata": {},
   "outputs": [],
   "source": [
    "data=keras.datasets.mnist.load_data()"
   ]
  },
  {
   "cell_type": "code",
   "execution_count": 6,
   "metadata": {},
   "outputs": [
    {
     "data": {
      "text/plain": [
       "2"
      ]
     },
     "execution_count": 6,
     "metadata": {},
     "output_type": "execute_result"
    }
   ],
   "source": [
    "len(data)"
   ]
  },
  {
   "cell_type": "code",
   "execution_count": 7,
   "metadata": {},
   "outputs": [],
   "source": [
    "(x_train,y_train),(x_test,y_test)=data"
   ]
  },
  {
   "cell_type": "code",
   "execution_count": 8,
   "metadata": {},
   "outputs": [
    {
     "data": {
      "text/plain": [
       "(60000, 28, 28)"
      ]
     },
     "execution_count": 8,
     "metadata": {},
     "output_type": "execute_result"
    }
   ],
   "source": [
    "x_train.shape"
   ]
  },
  {
   "cell_type": "code",
   "execution_count": 9,
   "metadata": {},
   "outputs": [
    {
     "data": {
      "text/plain": [
       "<matplotlib.image.AxesImage at 0x1f351f80550>"
      ]
     },
     "execution_count": 9,
     "metadata": {},
     "output_type": "execute_result"
    },
    {
     "data": {
      "image/png": "[encoded data removed]",
      "text/plain": [
       "<Figure size 640x480 with 1 Axes>"
      ]
     },
     "metadata": {},
     "output_type": "display_data"
    }
   ],
   "source": [
    "import matplotlib.pyplot as plt\n",
    "plt.imshow(x_train[3])"
   ]
  },
  {
   "cell_type": "code",
   "execution_count": 10,
   "metadata": {},
   "outputs": [],
   "source": [
    "x_train=x_train/255\n",
    "x_test=x_test/255"
   ]
  },
  {
   "cell_type": "code",
   "execution_count": 11,
   "metadata": {},
   "outputs": [
    {
     "data": {
      "text/plain": [
       "<matplotlib.image.AxesImage at 0x1f35431e650>"
      ]
     },
     "execution_count": 11,
     "metadata": {},
     "output_type": "execute_result"
    },
    {
     "data": {
      "image/png": "[encoded data removed]",
      "text/plain": [
       "<Figure size 640x480 with 1 Axes>"
      ]
     },
     "metadata": {},
     "output_type": "display_data"
    }
   ],
   "source": [
    "import matplotlib.pyplot as plt\n",
    "plt.imshow(x_train[3])"
   ]
  },
  {
   "cell_type": "code",
   "execution_count": 12,
   "metadata": {},
   "outputs": [
    {
     "data": {
      "text/plain": [
       "(28, 28)"
      ]
     },
     "execution_count": 12,
     "metadata": {},
     "output_type": "execute_result"
    }
   ],
   "source": [
    "x_test[0].shape"
   ]
  },
  {
   "cell_type": "code",
   "execution_count": 13,
   "metadata": {},
   "outputs": [
    {
     "name": "stderr",
     "output_type": "stream",
     "text": [
      "C:\\Users\\hp\\AppData\\Local\\Packages\\PythonSoftwareFoundation.Python.3.11_qbz5n2kfra8p0\\LocalCache\\local-packages\\Python311\\site-packages\\keras\\src\\layers\\reshaping\\flatten.py:37: UserWarning: Do not pass an `input_shape`/`input_dim` argument to a layer. When using Sequential models, prefer using an `Input(shape)` object as the first layer in the model instead.\n",
      "  super().__init__(**kwargs)\n"
     ]
    },
    {
     "data": {
      "text/html": [
       "<pre style=\"white-space:pre;overflow-x:auto;line-height:normal;font-family:Menlo,'DejaVu Sans Mono',consolas,'Courier New',monospace\"><span style=\"font-weight: bold\">Model: \"sequential\"</span>\n",
       "</pre>\n"
      ],
      "text/plain": [
       "\u001b[1mModel: \"sequential\"\u001b[0m\n"
      ]
     },
     "metadata": {},
     "output_type": "display_data"
    },
    {
     "data": {
      "text/html": [
       "<pre style=\"white-space:pre;overflow-x:auto;line-height:normal;font-family:Menlo,'DejaVu Sans Mono',consolas,'Courier New',monospace\">┏━━━━━━━━━━━━━━━━━━━━━━━━━━━━━━━━━┳━━━━━━━━━━━━━━━━━━━━━━━━┳━━━━━━━━━━━━━━━┓\n",
       "┃<span style=\"font-weight: bold\"> Layer (type)                    </span>┃<span style=\"font-weight: bold\"> Output Shape           </span>┃<span style=\"font-weight: bold\">       Param # </span>┃\n",
       "┡━━━━━━━━━━━━━━━━━━━━━━━━━━━━━━━━━╇━━━━━━━━━━━━━━━━━━━━━━━━╇━━━━━━━━━━━━━━━┩\n",
       "│ flatten (<span style=\"color: #0087ff; text-decoration-color: #0087ff\">Flatten</span>)               │ (<span style=\"color: #00d7ff; text-decoration-color: #00d7ff\">None</span>, <span style=\"color: #00af00; text-decoration-color: #00af00\">784</span>)            │             <span style=\"color: #00af00; text-decoration-color: #00af00\">0</span> │\n",
       "├─────────────────────────────────┼────────────────────────┼───────────────┤\n",
       "│ dense (<span style=\"color: #0087ff; text-decoration-color: #0087ff\">Dense</span>)                   │ (<span style=\"color: #00d7ff; text-decoration-color: #00d7ff\">None</span>, <span style=\"color: #00af00; text-decoration-color: #00af00\">128</span>)            │       <span style=\"color: #00af00; text-decoration-color: #00af00\">100,480</span> │\n",
       "├─────────────────────────────────┼────────────────────────┼───────────────┤\n",
       "│ dense_1 (<span style=\"color: #0087ff; text-decoration-color: #0087ff\">Dense</span>)                 │ (<span style=\"color: #00d7ff; text-decoration-color: #00d7ff\">None</span>, <span style=\"color: #00af00; text-decoration-color: #00af00\">32</span>)             │         <span style=\"color: #00af00; text-decoration-color: #00af00\">4,128</span> │\n",
       "├─────────────────────────────────┼────────────────────────┼───────────────┤\n",
       "│ dense_2 (<span style=\"color: #0087ff; text-decoration-color: #0087ff\">Dense</span>)                 │ (<span style=\"color: #00d7ff; text-decoration-color: #00d7ff\">None</span>, <span style=\"color: #00af00; text-decoration-color: #00af00\">10</span>)             │           <span style=\"color: #00af00; text-decoration-color: #00af00\">330</span> │\n",
       "└─────────────────────────────────┴────────────────────────┴───────────────┘\n",
       "</pre>\n"
      ],
      "text/plain": [
       "┏━━━━━━━━━━━━━━━━━━━━━━━━━━━━━━━━━┳━━━━━━━━━━━━━━━━━━━━━━━━┳━━━━━━━━━━━━━━━┓\n",
       "┃\u001b[1m \u001b[0m\u001b[1mLayer (type)                   \u001b[0m\u001b[1m \u001b[0m┃\u001b[1m \u001b[0m\u001b[1mOutput Shape          \u001b[0m\u001b[1m \u001b[0m┃\u001b[1m \u001b[0m\u001b[1m      Param #\u001b[0m\u001b[1m \u001b[0m┃\n",
       "┡━━━━━━━━━━━━━━━━━━━━━━━━━━━━━━━━━╇━━━━━━━━━━━━━━━━━━━━━━━━╇━━━━━━━━━━━━━━━┩\n",
       "│ flatten (\u001b[38;5;33mFlatten\u001b[0m)               │ (\u001b[38;5;45mNone\u001b[0m, \u001b[38;5;34m784\u001b[0m)            │             \u001b[38;5;34m0\u001b[0m │\n",
       "├─────────────────────────────────┼────────────────────────┼───────────────┤\n",
       "│ dense (\u001b[38;5;33mDense\u001b[0m)                   │ (\u001b[38;5;45mNone\u001b[0m, \u001b[38;5;34m128\u001b[0m)            │       \u001b[38;5;34m100,480\u001b[0m │\n",
       "├─────────────────────────────────┼────────────────────────┼───────────────┤\n",
       "│ dense_1 (\u001b[38;5;33mDense\u001b[0m)                 │ (\u001b[38;5;45mNone\u001b[0m, \u001b[38;5;34m32\u001b[0m)             │         \u001b[38;5;34m4,128\u001b[0m │\n",
       "├─────────────────────────────────┼────────────────────────┼───────────────┤\n",
       "│ dense_2 (\u001b[38;5;33mDense\u001b[0m)                 │ (\u001b[38;5;45mNone\u001b[0m, \u001b[38;5;34m10\u001b[0m)             │           \u001b[38;5;34m330\u001b[0m │\n",
       "└─────────────────────────────────┴────────────────────────┴───────────────┘\n"
      ]
     },
     "metadata": {},
     "output_type": "display_data"
    },
    {
     "data": {
      "text/html": [
       "<pre style=\"white-space:pre;overflow-x:auto;line-height:normal;font-family:Menlo,'DejaVu Sans Mono',consolas,'Courier New',monospace\"><span style=\"font-weight: bold\"> Total params: </span><span style=\"color: #00af00; text-decoration-color: #00af00\">104,938</span> (409.91 KB)\n",
       "</pre>\n"
      ],
      "text/plain": [
       "\u001b[1m Total params: \u001b[0m\u001b[38;5;34m104,938\u001b[0m (409.91 KB)\n"
      ]
     },
     "metadata": {},
     "output_type": "display_data"
    },
    {
     "data": {
      "text/html": [
       "<pre style=\"white-space:pre;overflow-x:auto;line-height:normal;font-family:Menlo,'DejaVu Sans Mono',consolas,'Courier New',monospace\"><span style=\"font-weight: bold\"> Trainable params: </span><span style=\"color: #00af00; text-decoration-color: #00af00\">104,938</span> (409.91 KB)\n",
       "</pre>\n"
      ],
      "text/plain": [
       "\u001b[1m Trainable params: \u001b[0m\u001b[38;5;34m104,938\u001b[0m (409.91 KB)\n"
      ]
     },
     "metadata": {},
     "output_type": "display_data"
    },
    {
     "data": {
      "text/html": [
       "<pre style=\"white-space:pre;overflow-x:auto;line-height:normal;font-family:Menlo,'DejaVu Sans Mono',consolas,'Courier New',monospace\"><span style=\"font-weight: bold\"> Non-trainable params: </span><span style=\"color: #00af00; text-decoration-color: #00af00\">0</span> (0.00 B)\n",
       "</pre>\n"
      ],
      "text/plain": [
       "\u001b[1m Non-trainable params: \u001b[0m\u001b[38;5;34m0\u001b[0m (0.00 B)\n"
      ]
     },
     "metadata": {},
     "output_type": "display_data"
    }
   ],
   "source": [
    "model=Sequential()\n",
    "model.add(Flatten(input_shape=(28,28)))\n",
    "model.add(Dense(128,activation='relu'))\n",
    "model.add(Dense(32,activation='relu'))\n",
    "model.add(Dense(10,activation='softmax'))\n",
    "model.summary()"
   ]
  },
  {
   "cell_type": "code",
   "execution_count": 14,
   "metadata": {},
   "outputs": [],
   "source": [
    "model.compile(loss='sparse_categorical_crossentropy',optimizer='SGD',metrics=['accuracy'])"
   ]
  },
  {
   "cell_type": "code",
   "execution_count": 15,
   "metadata": {},
   "outputs": [
    {
     "name": "stdout",
     "output_type": "stream",
     "text": [
      "Epoch 1/50\n",
      "\u001b[1m1500/1500\u001b[0m \u001b[32m━━━━━━━━━━━━━━━━━━━━\u001b[0m\u001b[37m\u001b[0m \u001b[1m5s\u001b[0m 2ms/step - accuracy: 0.6794 - loss: 1.1415 - val_accuracy: 0.9063 - val_loss: 0.3377\n",
      "Epoch 2/50\n",
      "\u001b[1m1500/1500\u001b[0m \u001b[32m━━━━━━━━━━━━━━━━━━━━\u001b[0m\u001b[37m\u001b[0m \u001b[1m3s\u001b[0m 2ms/step - accuracy: 0.9076 - loss: 0.3385 - val_accuracy: 0.9224 - val_loss: 0.2722\n",
      "Epoch 3/50\n",
      "\u001b[1m1500/1500\u001b[0m \u001b[32m━━━━━━━━━━━━━━━━━━━━\u001b[0m\u001b[37m\u001b[0m \u001b[1m4s\u001b[0m 2ms/step - accuracy: 0.9226 - loss: 0.2726 - val_accuracy: 0.9329 - val_loss: 0.2374\n",
      "Epoch 4/50\n",
      "\u001b[1m1500/1500\u001b[0m \u001b[32m━━━━━━━━━━━━━━━━━━━━\u001b[0m\u001b[37m\u001b[0m \u001b[1m4s\u001b[0m 2ms/step - accuracy: 0.9304 - loss: 0.2445 - val_accuracy: 0.9393 - val_loss: 0.2122\n",
      "Epoch 5/50\n",
      "\u001b[1m1500/1500\u001b[0m \u001b[32m━━━━━━━━━━━━━━━━━━━━\u001b[0m\u001b[37m\u001b[0m \u001b[1m4s\u001b[0m 2ms/step - accuracy: 0.9394 - loss: 0.2105 - val_accuracy: 0.9439 - val_loss: 0.1945\n",
      "Epoch 6/50\n",
      "\u001b[1m1500/1500\u001b[0m \u001b[32m━━━━━━━━━━━━━━━━━━━━\u001b[0m\u001b[37m\u001b[0m \u001b[1m3s\u001b[0m 2ms/step - accuracy: 0.9456 - loss: 0.1885 - val_accuracy: 0.9492 - val_loss: 0.1796\n",
      "Epoch 7/50\n",
      "\u001b[1m1500/1500\u001b[0m \u001b[32m━━━━━━━━━━━━━━━━━━━━\u001b[0m\u001b[37m\u001b[0m \u001b[1m4s\u001b[0m 2ms/step - accuracy: 0.9510 - loss: 0.1709 - val_accuracy: 0.9522 - val_loss: 0.1669\n",
      "Epoch 8/50\n",
      "\u001b[1m1500/1500\u001b[0m \u001b[32m━━━━━━━━━━━━━━━━━━━━\u001b[0m\u001b[37m\u001b[0m \u001b[1m3s\u001b[0m 2ms/step - accuracy: 0.9554 - loss: 0.1565 - val_accuracy: 0.9541 - val_loss: 0.1589\n",
      "Epoch 9/50\n",
      "\u001b[1m1500/1500\u001b[0m \u001b[32m━━━━━━━━━━━━━━━━━━━━\u001b[0m\u001b[37m\u001b[0m \u001b[1m3s\u001b[0m 2ms/step - accuracy: 0.9592 - loss: 0.1459 - val_accuracy: 0.9565 - val_loss: 0.1496\n",
      "Epoch 10/50\n",
      "\u001b[1m1500/1500\u001b[0m \u001b[32m━━━━━━━━━━━━━━━━━━━━\u001b[0m\u001b[37m\u001b[0m \u001b[1m3s\u001b[0m 2ms/step - accuracy: 0.9613 - loss: 0.1365 - val_accuracy: 0.9596 - val_loss: 0.1427\n",
      "Epoch 11/50\n",
      "\u001b[1m1500/1500\u001b[0m \u001b[32m━━━━━━━━━━━━━━━━━━━━\u001b[0m\u001b[37m\u001b[0m \u001b[1m3s\u001b[0m 2ms/step - accuracy: 0.9651 - loss: 0.1225 - val_accuracy: 0.9597 - val_loss: 0.1417\n",
      "Epoch 12/50\n",
      "\u001b[1m1500/1500\u001b[0m \u001b[32m━━━━━━━━━━━━━━━━━━━━\u001b[0m\u001b[37m\u001b[0m \u001b[1m3s\u001b[0m 2ms/step - accuracy: 0.9687 - loss: 0.1121 - val_accuracy: 0.9609 - val_loss: 0.1340\n",
      "Epoch 13/50\n",
      "\u001b[1m1500/1500\u001b[0m \u001b[32m━━━━━━━━━━━━━━━━━━━━\u001b[0m\u001b[37m\u001b[0m \u001b[1m3s\u001b[0m 2ms/step - accuracy: 0.9705 - loss: 0.1072 - val_accuracy: 0.9626 - val_loss: 0.1282\n",
      "Epoch 14/50\n",
      "\u001b[1m1500/1500\u001b[0m \u001b[32m━━━━━━━━━━━━━━━━━━━━\u001b[0m\u001b[37m\u001b[0m \u001b[1m4s\u001b[0m 2ms/step - accuracy: 0.9717 - loss: 0.1000 - val_accuracy: 0.9648 - val_loss: 0.1224\n",
      "Epoch 15/50\n",
      "\u001b[1m1500/1500\u001b[0m \u001b[32m━━━━━━━━━━━━━━━━━━━━\u001b[0m\u001b[37m\u001b[0m \u001b[1m4s\u001b[0m 3ms/step - accuracy: 0.9747 - loss: 0.0932 - val_accuracy: 0.9648 - val_loss: 0.1196\n",
      "Epoch 16/50\n",
      "\u001b[1m1500/1500\u001b[0m \u001b[32m━━━━━━━━━━━━━━━━━━━━\u001b[0m\u001b[37m\u001b[0m \u001b[1m4s\u001b[0m 2ms/step - accuracy: 0.9751 - loss: 0.0904 - val_accuracy: 0.9653 - val_loss: 0.1177\n",
      "Epoch 17/50\n",
      "\u001b[1m1500/1500\u001b[0m \u001b[32m━━━━━━━━━━━━━━━━━━━━\u001b[0m\u001b[37m\u001b[0m \u001b[1m3s\u001b[0m 2ms/step - accuracy: 0.9751 - loss: 0.0874 - val_accuracy: 0.9678 - val_loss: 0.1143\n",
      "Epoch 18/50\n",
      "\u001b[1m1500/1500\u001b[0m \u001b[32m━━━━━━━━━━━━━━━━━━━━\u001b[0m\u001b[37m\u001b[0m \u001b[1m3s\u001b[0m 2ms/step - accuracy: 0.9766 - loss: 0.0825 - val_accuracy: 0.9670 - val_loss: 0.1182\n",
      "Epoch 19/50\n",
      "\u001b[1m1500/1500\u001b[0m \u001b[32m━━━━━━━━━━━━━━━━━━━━\u001b[0m\u001b[37m\u001b[0m \u001b[1m4s\u001b[0m 3ms/step - accuracy: 0.9792 - loss: 0.0768 - val_accuracy: 0.9692 - val_loss: 0.1093\n",
      "Epoch 20/50\n",
      "\u001b[1m1500/1500\u001b[0m \u001b[32m━━━━━━━━━━━━━━━━━━━━\u001b[0m\u001b[37m\u001b[0m \u001b[1m4s\u001b[0m 3ms/step - accuracy: 0.9795 - loss: 0.0729 - val_accuracy: 0.9698 - val_loss: 0.1076\n",
      "Epoch 21/50\n",
      "\u001b[1m1500/1500\u001b[0m \u001b[32m━━━━━━━━━━━━━━━━━━━━\u001b[0m\u001b[37m\u001b[0m \u001b[1m3s\u001b[0m 2ms/step - accuracy: 0.9818 - loss: 0.0669 - val_accuracy: 0.9697 - val_loss: 0.1056\n",
      "Epoch 22/50\n",
      "\u001b[1m1500/1500\u001b[0m \u001b[32m━━━━━━━━━━━━━━━━━━━━\u001b[0m\u001b[37m\u001b[0m \u001b[1m3s\u001b[0m 2ms/step - accuracy: 0.9821 - loss: 0.0664 - val_accuracy: 0.9693 - val_loss: 0.1060\n",
      "Epoch 23/50\n",
      "\u001b[1m1500/1500\u001b[0m \u001b[32m━━━━━━━━━━━━━━━━━━━━\u001b[0m\u001b[37m\u001b[0m \u001b[1m3s\u001b[0m 2ms/step - accuracy: 0.9829 - loss: 0.0627 - val_accuracy: 0.9714 - val_loss: 0.1016\n",
      "Epoch 24/50\n",
      "\u001b[1m1500/1500\u001b[0m \u001b[32m━━━━━━━━━━━━━━━━━━━━\u001b[0m\u001b[37m\u001b[0m \u001b[1m3s\u001b[0m 2ms/step - accuracy: 0.9838 - loss: 0.0608 - val_accuracy: 0.9716 - val_loss: 0.1023\n",
      "Epoch 25/50\n",
      "\u001b[1m1500/1500\u001b[0m \u001b[32m━━━━━━━━━━━━━━━━━━━━\u001b[0m\u001b[37m\u001b[0m \u001b[1m3s\u001b[0m 2ms/step - accuracy: 0.9850 - loss: 0.0547 - val_accuracy: 0.9711 - val_loss: 0.1016\n",
      "Epoch 26/50\n",
      "\u001b[1m1500/1500\u001b[0m \u001b[32m━━━━━━━━━━━━━━━━━━━━\u001b[0m\u001b[37m\u001b[0m \u001b[1m3s\u001b[0m 2ms/step - accuracy: 0.9875 - loss: 0.0515 - val_accuracy: 0.9710 - val_loss: 0.1018\n",
      "Epoch 27/50\n",
      "\u001b[1m1500/1500\u001b[0m \u001b[32m━━━━━━━━━━━━━━━━━━━━\u001b[0m\u001b[37m\u001b[0m \u001b[1m3s\u001b[0m 2ms/step - accuracy: 0.9870 - loss: 0.0503 - val_accuracy: 0.9722 - val_loss: 0.1007\n",
      "Epoch 28/50\n",
      "\u001b[1m1500/1500\u001b[0m \u001b[32m━━━━━━━━━━━━━━━━━━━━\u001b[0m\u001b[37m\u001b[0m \u001b[1m3s\u001b[0m 2ms/step - accuracy: 0.9866 - loss: 0.0494 - val_accuracy: 0.9699 - val_loss: 0.1008\n",
      "Epoch 29/50\n",
      "\u001b[1m1500/1500\u001b[0m \u001b[32m━━━━━━━━━━━━━━━━━━━━\u001b[0m\u001b[37m\u001b[0m \u001b[1m3s\u001b[0m 2ms/step - accuracy: 0.9880 - loss: 0.0483 - val_accuracy: 0.9720 - val_loss: 0.0988\n",
      "Epoch 30/50\n",
      "\u001b[1m1500/1500\u001b[0m \u001b[32m━━━━━━━━━━━━━━━━━━━━\u001b[0m\u001b[37m\u001b[0m \u001b[1m3s\u001b[0m 2ms/step - accuracy: 0.9890 - loss: 0.0425 - val_accuracy: 0.9721 - val_loss: 0.0976\n",
      "Epoch 31/50\n",
      "\u001b[1m1500/1500\u001b[0m \u001b[32m━━━━━━━━━━━━━━━━━━━━\u001b[0m\u001b[37m\u001b[0m \u001b[1m3s\u001b[0m 2ms/step - accuracy: 0.9897 - loss: 0.0418 - val_accuracy: 0.9731 - val_loss: 0.0969\n",
      "Epoch 32/50\n",
      "\u001b[1m1500/1500\u001b[0m \u001b[32m━━━━━━━━━━━━━━━━━━━━\u001b[0m\u001b[37m\u001b[0m \u001b[1m3s\u001b[0m 2ms/step - accuracy: 0.9904 - loss: 0.0400 - val_accuracy: 0.9711 - val_loss: 0.1012\n",
      "Epoch 33/50\n",
      "\u001b[1m1500/1500\u001b[0m \u001b[32m━━━━━━━━━━━━━━━━━━━━\u001b[0m\u001b[37m\u001b[0m \u001b[1m3s\u001b[0m 2ms/step - accuracy: 0.9911 - loss: 0.0368 - val_accuracy: 0.9732 - val_loss: 0.0972\n",
      "Epoch 34/50\n",
      "\u001b[1m1500/1500\u001b[0m \u001b[32m━━━━━━━━━━━━━━━━━━━━\u001b[0m\u001b[37m\u001b[0m \u001b[1m3s\u001b[0m 2ms/step - accuracy: 0.9905 - loss: 0.0375 - val_accuracy: 0.9722 - val_loss: 0.0968\n",
      "Epoch 35/50\n",
      "\u001b[1m1500/1500\u001b[0m \u001b[32m━━━━━━━━━━━━━━━━━━━━\u001b[0m\u001b[37m\u001b[0m \u001b[1m3s\u001b[0m 2ms/step - accuracy: 0.9918 - loss: 0.0357 - val_accuracy: 0.9732 - val_loss: 0.0942\n",
      "Epoch 36/50\n",
      "\u001b[1m1500/1500\u001b[0m \u001b[32m━━━━━━━━━━━━━━━━━━━━\u001b[0m\u001b[37m\u001b[0m \u001b[1m3s\u001b[0m 2ms/step - accuracy: 0.9926 - loss: 0.0315 - val_accuracy: 0.9728 - val_loss: 0.0962\n",
      "Epoch 37/50\n",
      "\u001b[1m1500/1500\u001b[0m \u001b[32m━━━━━━━━━━━━━━━━━━━━\u001b[0m\u001b[37m\u001b[0m \u001b[1m3s\u001b[0m 2ms/step - accuracy: 0.9928 - loss: 0.0312 - val_accuracy: 0.9729 - val_loss: 0.0975\n",
      "Epoch 38/50\n",
      "\u001b[1m1500/1500\u001b[0m \u001b[32m━━━━━━━━━━━━━━━━━━━━\u001b[0m\u001b[37m\u001b[0m \u001b[1m3s\u001b[0m 2ms/step - accuracy: 0.9932 - loss: 0.0311 - val_accuracy: 0.9736 - val_loss: 0.0954\n",
      "Epoch 39/50\n",
      "\u001b[1m1500/1500\u001b[0m \u001b[32m━━━━━━━━━━━━━━━━━━━━\u001b[0m\u001b[37m\u001b[0m \u001b[1m5s\u001b[0m 3ms/step - accuracy: 0.9942 - loss: 0.0283 - val_accuracy: 0.9730 - val_loss: 0.0955\n",
      "Epoch 40/50\n",
      "\u001b[1m1500/1500\u001b[0m \u001b[32m━━━━━━━━━━━━━━━━━━━━\u001b[0m\u001b[37m\u001b[0m \u001b[1m9s\u001b[0m 2ms/step - accuracy: 0.9937 - loss: 0.0291 - val_accuracy: 0.9725 - val_loss: 0.0972\n",
      "Epoch 41/50\n",
      "\u001b[1m1500/1500\u001b[0m \u001b[32m━━━━━━━━━━━━━━━━━━━━\u001b[0m\u001b[37m\u001b[0m \u001b[1m3s\u001b[0m 2ms/step - accuracy: 0.9941 - loss: 0.0261 - val_accuracy: 0.9729 - val_loss: 0.0965\n",
      "Epoch 42/50\n",
      "\u001b[1m1500/1500\u001b[0m \u001b[32m━━━━━━━━━━━━━━━━━━━━\u001b[0m\u001b[37m\u001b[0m \u001b[1m3s\u001b[0m 2ms/step - accuracy: 0.9947 - loss: 0.0250 - val_accuracy: 0.9725 - val_loss: 0.0967\n",
      "Epoch 43/50\n",
      "\u001b[1m1500/1500\u001b[0m \u001b[32m━━━━━━━━━━━━━━━━━━━━\u001b[0m\u001b[37m\u001b[0m \u001b[1m3s\u001b[0m 2ms/step - accuracy: 0.9956 - loss: 0.0230 - val_accuracy: 0.9728 - val_loss: 0.0946\n",
      "Epoch 44/50\n",
      "\u001b[1m1500/1500\u001b[0m \u001b[32m━━━━━━━━━━━━━━━━━━━━\u001b[0m\u001b[37m\u001b[0m \u001b[1m3s\u001b[0m 2ms/step - accuracy: 0.9953 - loss: 0.0233 - val_accuracy: 0.9732 - val_loss: 0.0954\n",
      "Epoch 45/50\n",
      "\u001b[1m1500/1500\u001b[0m \u001b[32m━━━━━━━━━━━━━━━━━━━━\u001b[0m\u001b[37m\u001b[0m \u001b[1m3s\u001b[0m 2ms/step - accuracy: 0.9959 - loss: 0.0223 - val_accuracy: 0.9733 - val_loss: 0.0950\n",
      "Epoch 46/50\n",
      "\u001b[1m1500/1500\u001b[0m \u001b[32m━━━━━━━━━━━━━━━━━━━━\u001b[0m\u001b[37m\u001b[0m \u001b[1m3s\u001b[0m 2ms/step - accuracy: 0.9963 - loss: 0.0210 - val_accuracy: 0.9737 - val_loss: 0.0974\n",
      "Epoch 47/50\n",
      "\u001b[1m1500/1500\u001b[0m \u001b[32m━━━━━━━━━━━━━━━━━━━━\u001b[0m\u001b[37m\u001b[0m \u001b[1m4s\u001b[0m 3ms/step - accuracy: 0.9959 - loss: 0.0218 - val_accuracy: 0.9738 - val_loss: 0.0967\n",
      "Epoch 48/50\n",
      "\u001b[1m1500/1500\u001b[0m \u001b[32m━━━━━━━━━━━━━━━━━━━━\u001b[0m\u001b[37m\u001b[0m \u001b[1m5s\u001b[0m 3ms/step - accuracy: 0.9962 - loss: 0.0194 - val_accuracy: 0.9732 - val_loss: 0.0954\n",
      "Epoch 49/50\n",
      "\u001b[1m1500/1500\u001b[0m \u001b[32m━━━━━━━━━━━━━━━━━━━━\u001b[0m\u001b[37m\u001b[0m \u001b[1m3s\u001b[0m 2ms/step - accuracy: 0.9967 - loss: 0.0187 - val_accuracy: 0.9727 - val_loss: 0.0971\n",
      "Epoch 50/50\n",
      "\u001b[1m1500/1500\u001b[0m \u001b[32m━━━━━━━━━━━━━━━━━━━━\u001b[0m\u001b[37m\u001b[0m \u001b[1m3s\u001b[0m 2ms/step - accuracy: 0.9974 - loss: 0.0173 - val_accuracy: 0.9739 - val_loss: 0.0970\n"
     ]
    }
   ],
   "source": [
    "history=model.fit(x_train,y_train,epochs=50,validation_split=0.2)"
   ]
  },
  {
   "cell_type": "code",
   "execution_count": 16,
   "metadata": {},
   "outputs": [
    {
     "data": {
      "text/plain": [
       "{'accuracy': [0.8128125071525574,\n",
       "  0.9093124866485596,\n",
       "  0.9240416884422302,\n",
       "  0.9331458210945129,\n",
       "  0.9402083158493042,\n",
       "  0.9463750123977661,\n",
       "  0.9511041641235352,\n",
       "  0.9552708268165588,\n",
       "  0.9588958621025085,\n",
       "  0.9618333578109741,\n",
       "  0.9649791717529297,\n",
       "  0.9668958187103271,\n",
       "  0.9696875214576721,\n",
       "  0.9716249704360962,\n",
       "  0.973562479019165,\n",
       "  0.9745625257492065,\n",
       "  0.9761458039283752,\n",
       "  0.9774166941642761,\n",
       "  0.9785000085830688,\n",
       "  0.9797499775886536,\n",
       "  0.981041669845581,\n",
       "  0.9822083115577698,\n",
       "  0.9828958511352539,\n",
       "  0.9836041927337646,\n",
       "  0.9845625162124634,\n",
       "  0.9854583144187927,\n",
       "  0.9864374995231628,\n",
       "  0.9868541955947876,\n",
       "  0.9878333210945129,\n",
       "  0.9886041879653931,\n",
       "  0.988937497138977,\n",
       "  0.9900416731834412,\n",
       "  0.9901041388511658,\n",
       "  0.9907083511352539,\n",
       "  0.9915000200271606,\n",
       "  0.9916041493415833,\n",
       "  0.991937518119812,\n",
       "  0.9926666617393494,\n",
       "  0.9934375286102295,\n",
       "  0.9935833215713501,\n",
       "  0.9936458468437195,\n",
       "  0.9943541884422302,\n",
       "  0.9947916865348816,\n",
       "  0.9950624704360962,\n",
       "  0.9957500100135803,\n",
       "  0.9958750009536743,\n",
       "  0.9960625171661377,\n",
       "  0.9963333606719971,\n",
       "  0.9965416789054871,\n",
       "  0.9972083568572998],\n",
       " 'loss': [0.6979040503501892,\n",
       "  0.3215406835079193,\n",
       "  0.2675819993019104,\n",
       "  0.23405005037784576,\n",
       "  0.20820288360118866,\n",
       "  0.18744802474975586,\n",
       "  0.17073699831962585,\n",
       "  0.15625989437103271,\n",
       "  0.14402669668197632,\n",
       "  0.13343749940395355,\n",
       "  0.12391220033168793,\n",
       "  0.11545076221227646,\n",
       "  0.10789654403924942,\n",
       "  0.10135190188884735,\n",
       "  0.0956559106707573,\n",
       "  0.09058898687362671,\n",
       "  0.08533749729394913,\n",
       "  0.08056265115737915,\n",
       "  0.07650215923786163,\n",
       "  0.07280834019184113,\n",
       "  0.06897847354412079,\n",
       "  0.06570792943239212,\n",
       "  0.06258579343557358,\n",
       "  0.059383638203144073,\n",
       "  0.056656960397958755,\n",
       "  0.05456497147679329,\n",
       "  0.0514533706009388,\n",
       "  0.04964765906333923,\n",
       "  0.046993184834718704,\n",
       "  0.04488449543714523,\n",
       "  0.04284961521625519,\n",
       "  0.04078429564833641,\n",
       "  0.0390302948653698,\n",
       "  0.0373523011803627,\n",
       "  0.035740312188863754,\n",
       "  0.03405009210109711,\n",
       "  0.03270972520112991,\n",
       "  0.031162450090050697,\n",
       "  0.029776303097605705,\n",
       "  0.028226321563124657,\n",
       "  0.027262980118393898,\n",
       "  0.025768021121621132,\n",
       "  0.024821892380714417,\n",
       "  0.023687545210123062,\n",
       "  0.022715359926223755,\n",
       "  0.021653950214385986,\n",
       "  0.02075798250734806,\n",
       "  0.019984759390354156,\n",
       "  0.01915145292878151,\n",
       "  0.018199177458882332],\n",
       " 'val_accuracy': [0.906333327293396,\n",
       "  0.9224166870117188,\n",
       "  0.9329166412353516,\n",
       "  0.9393333196640015,\n",
       "  0.9439166784286499,\n",
       "  0.9491666555404663,\n",
       "  0.9521666765213013,\n",
       "  0.9540833234786987,\n",
       "  0.9564999938011169,\n",
       "  0.9595833420753479,\n",
       "  0.9597499966621399,\n",
       "  0.9609166383743286,\n",
       "  0.9625833630561829,\n",
       "  0.9648333191871643,\n",
       "  0.9648333191871643,\n",
       "  0.9652500152587891,\n",
       "  0.9677500128746033,\n",
       "  0.9670000076293945,\n",
       "  0.9691666960716248,\n",
       "  0.9698333144187927,\n",
       "  0.9697499871253967,\n",
       "  0.9693333506584167,\n",
       "  0.9714166522026062,\n",
       "  0.9715833067893982,\n",
       "  0.9710833430290222,\n",
       "  0.9710000157356262,\n",
       "  0.9721666574478149,\n",
       "  0.9699166417121887,\n",
       "  0.972000002861023,\n",
       "  0.972083330154419,\n",
       "  0.9730833172798157,\n",
       "  0.9710833430290222,\n",
       "  0.9731666445732117,\n",
       "  0.9722499847412109,\n",
       "  0.9731666445732117,\n",
       "  0.9728333353996277,\n",
       "  0.9729166626930237,\n",
       "  0.9735833406448364,\n",
       "  0.9729999899864197,\n",
       "  0.9725000262260437,\n",
       "  0.9729166626930237,\n",
       "  0.9725000262260437,\n",
       "  0.9727500081062317,\n",
       "  0.9731666445732117,\n",
       "  0.9733333587646484,\n",
       "  0.9737499952316284,\n",
       "  0.9738333225250244,\n",
       "  0.9731666445732117,\n",
       "  0.9726666808128357,\n",
       "  0.9739166498184204],\n",
       " 'val_loss': [0.3376635015010834,\n",
       "  0.2722434103488922,\n",
       "  0.23738114535808563,\n",
       "  0.21215826272964478,\n",
       "  0.19453385472297668,\n",
       "  0.1795581430196762,\n",
       "  0.16693422198295593,\n",
       "  0.15888547897338867,\n",
       "  0.1495654135942459,\n",
       "  0.14274245500564575,\n",
       "  0.1417088806629181,\n",
       "  0.1339799165725708,\n",
       "  0.12816090881824493,\n",
       "  0.122426338493824,\n",
       "  0.11961832642555237,\n",
       "  0.1177045926451683,\n",
       "  0.11433392018079758,\n",
       "  0.11816447973251343,\n",
       "  0.10931713134050369,\n",
       "  0.10757145285606384,\n",
       "  0.10561371594667435,\n",
       "  0.10600373148918152,\n",
       "  0.10155046731233597,\n",
       "  0.10228069126605988,\n",
       "  0.1016286313533783,\n",
       "  0.10176040977239609,\n",
       "  0.10065510869026184,\n",
       "  0.10077536106109619,\n",
       "  0.09883009642362595,\n",
       "  0.09758704900741577,\n",
       "  0.09688897430896759,\n",
       "  0.10122349113225937,\n",
       "  0.09716252982616425,\n",
       "  0.09680190682411194,\n",
       "  0.09420213848352432,\n",
       "  0.09618131816387177,\n",
       "  0.09751731157302856,\n",
       "  0.09539224952459335,\n",
       "  0.09551837295293808,\n",
       "  0.09717188775539398,\n",
       "  0.09654730558395386,\n",
       "  0.0966574102640152,\n",
       "  0.09460026770830154,\n",
       "  0.09542083740234375,\n",
       "  0.09501747786998749,\n",
       "  0.09741950780153275,\n",
       "  0.09671530872583389,\n",
       "  0.09544070065021515,\n",
       "  0.09712664037942886,\n",
       "  0.09699035435914993]}"
      ]
     },
     "execution_count": 16,
     "metadata": {},
     "output_type": "execute_result"
    }
   ],
   "source": [
    "history.history"
   ]
  },
  {
   "cell_type": "code",
   "execution_count": 17,
   "metadata": {},
   "outputs": [],
   "source": [
    "import pandas as pd"
   ]
  },
  {
   "cell_type": "code",
   "execution_count": 18,
   "metadata": {},
   "outputs": [],
   "source": [
    "df=pd.DataFrame(history.history)"
   ]
  },
  {
   "cell_type": "code",
   "execution_count": 19,
   "metadata": {},
   "outputs": [
    {
     "data": {
      "text/html": [
       "<div>\n",
       "<style scoped>\n",
       "    .dataframe tbody tr th:only-of-type {\n",
       "        vertical-align: middle;\n",
       "    }\n",
       "\n",
       "    .dataframe tbody tr th {\n",
       "        vertical-align: top;\n",
       "    }\n",
       "\n",
       "    .dataframe thead th {\n",
       "        text-align: right;\n",
       "    }\n",
       "</style>\n",
       "<table border=\"1\" class=\"dataframe\">\n",
       "  <thead>\n",
       "    <tr style=\"text-align: right;\">\n",
       "      <th></th>\n",
       "      <th>accuracy</th>\n",
       "      <th>loss</th>\n",
       "      <th>val_accuracy</th>\n",
       "      <th>val_loss</th>\n",
       "      <th>loss+accuracy</th>\n",
       "    </tr>\n",
       "  </thead>\n",
       "  <tbody>\n",
       "    <tr>\n",
       "      <th>0</th>\n",
       "      <td>0.812813</td>\n",
       "      <td>0.697904</td>\n",
       "      <td>0.906333</td>\n",
       "      <td>0.337664</td>\n",
       "      <td>1.510717</td>\n",
       "    </tr>\n",
       "    <tr>\n",
       "      <th>1</th>\n",
       "      <td>0.909312</td>\n",
       "      <td>0.321541</td>\n",
       "      <td>0.922417</td>\n",
       "      <td>0.272243</td>\n",
       "      <td>1.230853</td>\n",
       "    </tr>\n",
       "    <tr>\n",
       "      <th>2</th>\n",
       "      <td>0.924042</td>\n",
       "      <td>0.267582</td>\n",
       "      <td>0.932917</td>\n",
       "      <td>0.237381</td>\n",
       "      <td>1.191624</td>\n",
       "    </tr>\n",
       "    <tr>\n",
       "      <th>3</th>\n",
       "      <td>0.933146</td>\n",
       "      <td>0.234050</td>\n",
       "      <td>0.939333</td>\n",
       "      <td>0.212158</td>\n",
       "      <td>1.167196</td>\n",
       "    </tr>\n",
       "    <tr>\n",
       "      <th>4</th>\n",
       "      <td>0.940208</td>\n",
       "      <td>0.208203</td>\n",
       "      <td>0.943917</td>\n",
       "      <td>0.194534</td>\n",
       "      <td>1.148411</td>\n",
       "    </tr>\n",
       "    <tr>\n",
       "      <th>5</th>\n",
       "      <td>0.946375</td>\n",
       "      <td>0.187448</td>\n",
       "      <td>0.949167</td>\n",
       "      <td>0.179558</td>\n",
       "      <td>1.133823</td>\n",
       "    </tr>\n",
       "    <tr>\n",
       "      <th>6</th>\n",
       "      <td>0.951104</td>\n",
       "      <td>0.170737</td>\n",
       "      <td>0.952167</td>\n",
       "      <td>0.166934</td>\n",
       "      <td>1.121841</td>\n",
       "    </tr>\n",
       "    <tr>\n",
       "      <th>7</th>\n",
       "      <td>0.955271</td>\n",
       "      <td>0.156260</td>\n",
       "      <td>0.954083</td>\n",
       "      <td>0.158885</td>\n",
       "      <td>1.111531</td>\n",
       "    </tr>\n",
       "    <tr>\n",
       "      <th>8</th>\n",
       "      <td>0.958896</td>\n",
       "      <td>0.144027</td>\n",
       "      <td>0.956500</td>\n",
       "      <td>0.149565</td>\n",
       "      <td>1.102923</td>\n",
       "    </tr>\n",
       "    <tr>\n",
       "      <th>9</th>\n",
       "      <td>0.961833</td>\n",
       "      <td>0.133437</td>\n",
       "      <td>0.959583</td>\n",
       "      <td>0.142742</td>\n",
       "      <td>1.095271</td>\n",
       "    </tr>\n",
       "    <tr>\n",
       "      <th>10</th>\n",
       "      <td>0.964979</td>\n",
       "      <td>0.123912</td>\n",
       "      <td>0.959750</td>\n",
       "      <td>0.141709</td>\n",
       "      <td>1.088891</td>\n",
       "    </tr>\n",
       "    <tr>\n",
       "      <th>11</th>\n",
       "      <td>0.966896</td>\n",
       "      <td>0.115451</td>\n",
       "      <td>0.960917</td>\n",
       "      <td>0.133980</td>\n",
       "      <td>1.082347</td>\n",
       "    </tr>\n",
       "    <tr>\n",
       "      <th>12</th>\n",
       "      <td>0.969688</td>\n",
       "      <td>0.107897</td>\n",
       "      <td>0.962583</td>\n",
       "      <td>0.128161</td>\n",
       "      <td>1.077584</td>\n",
       "    </tr>\n",
       "    <tr>\n",
       "      <th>13</th>\n",
       "      <td>0.971625</td>\n",
       "      <td>0.101352</td>\n",
       "      <td>0.964833</td>\n",
       "      <td>0.122426</td>\n",
       "      <td>1.072977</td>\n",
       "    </tr>\n",
       "    <tr>\n",
       "      <th>14</th>\n",
       "      <td>0.973562</td>\n",
       "      <td>0.095656</td>\n",
       "      <td>0.964833</td>\n",
       "      <td>0.119618</td>\n",
       "      <td>1.069218</td>\n",
       "    </tr>\n",
       "    <tr>\n",
       "      <th>15</th>\n",
       "      <td>0.974563</td>\n",
       "      <td>0.090589</td>\n",
       "      <td>0.965250</td>\n",
       "      <td>0.117705</td>\n",
       "      <td>1.065152</td>\n",
       "    </tr>\n",
       "    <tr>\n",
       "      <th>16</th>\n",
       "      <td>0.976146</td>\n",
       "      <td>0.085337</td>\n",
       "      <td>0.967750</td>\n",
       "      <td>0.114334</td>\n",
       "      <td>1.061483</td>\n",
       "    </tr>\n",
       "    <tr>\n",
       "      <th>17</th>\n",
       "      <td>0.977417</td>\n",
       "      <td>0.080563</td>\n",
       "      <td>0.967000</td>\n",
       "      <td>0.118164</td>\n",
       "      <td>1.057979</td>\n",
       "    </tr>\n",
       "    <tr>\n",
       "      <th>18</th>\n",
       "      <td>0.978500</td>\n",
       "      <td>0.076502</td>\n",
       "      <td>0.969167</td>\n",
       "      <td>0.109317</td>\n",
       "      <td>1.055002</td>\n",
       "    </tr>\n",
       "    <tr>\n",
       "      <th>19</th>\n",
       "      <td>0.979750</td>\n",
       "      <td>0.072808</td>\n",
       "      <td>0.969833</td>\n",
       "      <td>0.107571</td>\n",
       "      <td>1.052558</td>\n",
       "    </tr>\n",
       "    <tr>\n",
       "      <th>20</th>\n",
       "      <td>0.981042</td>\n",
       "      <td>0.068978</td>\n",
       "      <td>0.969750</td>\n",
       "      <td>0.105614</td>\n",
       "      <td>1.050020</td>\n",
       "    </tr>\n",
       "    <tr>\n",
       "      <th>21</th>\n",
       "      <td>0.982208</td>\n",
       "      <td>0.065708</td>\n",
       "      <td>0.969333</td>\n",
       "      <td>0.106004</td>\n",
       "      <td>1.047916</td>\n",
       "    </tr>\n",
       "    <tr>\n",
       "      <th>22</th>\n",
       "      <td>0.982896</td>\n",
       "      <td>0.062586</td>\n",
       "      <td>0.971417</td>\n",
       "      <td>0.101550</td>\n",
       "      <td>1.045482</td>\n",
       "    </tr>\n",
       "    <tr>\n",
       "      <th>23</th>\n",
       "      <td>0.983604</td>\n",
       "      <td>0.059384</td>\n",
       "      <td>0.971583</td>\n",
       "      <td>0.102281</td>\n",
       "      <td>1.042988</td>\n",
       "    </tr>\n",
       "    <tr>\n",
       "      <th>24</th>\n",
       "      <td>0.984563</td>\n",
       "      <td>0.056657</td>\n",
       "      <td>0.971083</td>\n",
       "      <td>0.101629</td>\n",
       "      <td>1.041219</td>\n",
       "    </tr>\n",
       "    <tr>\n",
       "      <th>25</th>\n",
       "      <td>0.985458</td>\n",
       "      <td>0.054565</td>\n",
       "      <td>0.971000</td>\n",
       "      <td>0.101760</td>\n",
       "      <td>1.040023</td>\n",
       "    </tr>\n",
       "    <tr>\n",
       "      <th>26</th>\n",
       "      <td>0.986437</td>\n",
       "      <td>0.051453</td>\n",
       "      <td>0.972167</td>\n",
       "      <td>0.100655</td>\n",
       "      <td>1.037891</td>\n",
       "    </tr>\n",
       "    <tr>\n",
       "      <th>27</th>\n",
       "      <td>0.986854</td>\n",
       "      <td>0.049648</td>\n",
       "      <td>0.969917</td>\n",
       "      <td>0.100775</td>\n",
       "      <td>1.036502</td>\n",
       "    </tr>\n",
       "    <tr>\n",
       "      <th>28</th>\n",
       "      <td>0.987833</td>\n",
       "      <td>0.046993</td>\n",
       "      <td>0.972000</td>\n",
       "      <td>0.098830</td>\n",
       "      <td>1.034827</td>\n",
       "    </tr>\n",
       "    <tr>\n",
       "      <th>29</th>\n",
       "      <td>0.988604</td>\n",
       "      <td>0.044884</td>\n",
       "      <td>0.972083</td>\n",
       "      <td>0.097587</td>\n",
       "      <td>1.033489</td>\n",
       "    </tr>\n",
       "    <tr>\n",
       "      <th>30</th>\n",
       "      <td>0.988937</td>\n",
       "      <td>0.042850</td>\n",
       "      <td>0.973083</td>\n",
       "      <td>0.096889</td>\n",
       "      <td>1.031787</td>\n",
       "    </tr>\n",
       "    <tr>\n",
       "      <th>31</th>\n",
       "      <td>0.990042</td>\n",
       "      <td>0.040784</td>\n",
       "      <td>0.971083</td>\n",
       "      <td>0.101223</td>\n",
       "      <td>1.030826</td>\n",
       "    </tr>\n",
       "    <tr>\n",
       "      <th>32</th>\n",
       "      <td>0.990104</td>\n",
       "      <td>0.039030</td>\n",
       "      <td>0.973167</td>\n",
       "      <td>0.097163</td>\n",
       "      <td>1.029134</td>\n",
       "    </tr>\n",
       "    <tr>\n",
       "      <th>33</th>\n",
       "      <td>0.990708</td>\n",
       "      <td>0.037352</td>\n",
       "      <td>0.972250</td>\n",
       "      <td>0.096802</td>\n",
       "      <td>1.028061</td>\n",
       "    </tr>\n",
       "    <tr>\n",
       "      <th>34</th>\n",
       "      <td>0.991500</td>\n",
       "      <td>0.035740</td>\n",
       "      <td>0.973167</td>\n",
       "      <td>0.094202</td>\n",
       "      <td>1.027240</td>\n",
       "    </tr>\n",
       "    <tr>\n",
       "      <th>35</th>\n",
       "      <td>0.991604</td>\n",
       "      <td>0.034050</td>\n",
       "      <td>0.972833</td>\n",
       "      <td>0.096181</td>\n",
       "      <td>1.025654</td>\n",
       "    </tr>\n",
       "    <tr>\n",
       "      <th>36</th>\n",
       "      <td>0.991938</td>\n",
       "      <td>0.032710</td>\n",
       "      <td>0.972917</td>\n",
       "      <td>0.097517</td>\n",
       "      <td>1.024647</td>\n",
       "    </tr>\n",
       "    <tr>\n",
       "      <th>37</th>\n",
       "      <td>0.992667</td>\n",
       "      <td>0.031162</td>\n",
       "      <td>0.973583</td>\n",
       "      <td>0.095392</td>\n",
       "      <td>1.023829</td>\n",
       "    </tr>\n",
       "    <tr>\n",
       "      <th>38</th>\n",
       "      <td>0.993438</td>\n",
       "      <td>0.029776</td>\n",
       "      <td>0.973000</td>\n",
       "      <td>0.095518</td>\n",
       "      <td>1.023214</td>\n",
       "    </tr>\n",
       "    <tr>\n",
       "      <th>39</th>\n",
       "      <td>0.993583</td>\n",
       "      <td>0.028226</td>\n",
       "      <td>0.972500</td>\n",
       "      <td>0.097172</td>\n",
       "      <td>1.021810</td>\n",
       "    </tr>\n",
       "    <tr>\n",
       "      <th>40</th>\n",
       "      <td>0.993646</td>\n",
       "      <td>0.027263</td>\n",
       "      <td>0.972917</td>\n",
       "      <td>0.096547</td>\n",
       "      <td>1.020909</td>\n",
       "    </tr>\n",
       "    <tr>\n",
       "      <th>41</th>\n",
       "      <td>0.994354</td>\n",
       "      <td>0.025768</td>\n",
       "      <td>0.972500</td>\n",
       "      <td>0.096657</td>\n",
       "      <td>1.020122</td>\n",
       "    </tr>\n",
       "    <tr>\n",
       "      <th>42</th>\n",
       "      <td>0.994792</td>\n",
       "      <td>0.024822</td>\n",
       "      <td>0.972750</td>\n",
       "      <td>0.094600</td>\n",
       "      <td>1.019614</td>\n",
       "    </tr>\n",
       "    <tr>\n",
       "      <th>43</th>\n",
       "      <td>0.995062</td>\n",
       "      <td>0.023688</td>\n",
       "      <td>0.973167</td>\n",
       "      <td>0.095421</td>\n",
       "      <td>1.018750</td>\n",
       "    </tr>\n",
       "    <tr>\n",
       "      <th>44</th>\n",
       "      <td>0.995750</td>\n",
       "      <td>0.022715</td>\n",
       "      <td>0.973333</td>\n",
       "      <td>0.095017</td>\n",
       "      <td>1.018465</td>\n",
       "    </tr>\n",
       "    <tr>\n",
       "      <th>45</th>\n",
       "      <td>0.995875</td>\n",
       "      <td>0.021654</td>\n",
       "      <td>0.973750</td>\n",
       "      <td>0.097420</td>\n",
       "      <td>1.017529</td>\n",
       "    </tr>\n",
       "    <tr>\n",
       "      <th>46</th>\n",
       "      <td>0.996063</td>\n",
       "      <td>0.020758</td>\n",
       "      <td>0.973833</td>\n",
       "      <td>0.096715</td>\n",
       "      <td>1.016820</td>\n",
       "    </tr>\n",
       "    <tr>\n",
       "      <th>47</th>\n",
       "      <td>0.996333</td>\n",
       "      <td>0.019985</td>\n",
       "      <td>0.973167</td>\n",
       "      <td>0.095441</td>\n",
       "      <td>1.016318</td>\n",
       "    </tr>\n",
       "    <tr>\n",
       "      <th>48</th>\n",
       "      <td>0.996542</td>\n",
       "      <td>0.019151</td>\n",
       "      <td>0.972667</td>\n",
       "      <td>0.097127</td>\n",
       "      <td>1.015693</td>\n",
       "    </tr>\n",
       "    <tr>\n",
       "      <th>49</th>\n",
       "      <td>0.997208</td>\n",
       "      <td>0.018199</td>\n",
       "      <td>0.973917</td>\n",
       "      <td>0.096990</td>\n",
       "      <td>1.015408</td>\n",
       "    </tr>\n",
       "  </tbody>\n",
       "</table>\n",
       "</div>"
      ],
      "text/plain": [
       "    accuracy      loss  val_accuracy  val_loss  loss+accuracy\n",
       "0   0.812813  0.697904      0.906333  0.337664       1.510717\n",
       "1   0.909312  0.321541      0.922417  0.272243       1.230853\n",
       "2   0.924042  0.267582      0.932917  0.237381       1.191624\n",
       "3   0.933146  0.234050      0.939333  0.212158       1.167196\n",
       "4   0.940208  0.208203      0.943917  0.194534       1.148411\n",
       "5   0.946375  0.187448      0.949167  0.179558       1.133823\n",
       "6   0.951104  0.170737      0.952167  0.166934       1.121841\n",
       "7   0.955271  0.156260      0.954083  0.158885       1.111531\n",
       "8   0.958896  0.144027      0.956500  0.149565       1.102923\n",
       "9   0.961833  0.133437      0.959583  0.142742       1.095271\n",
       "10  0.964979  0.123912      0.959750  0.141709       1.088891\n",
       "11  0.966896  0.115451      0.960917  0.133980       1.082347\n",
       "12  0.969688  0.107897      0.962583  0.128161       1.077584\n",
       "13  0.971625  0.101352      0.964833  0.122426       1.072977\n",
       "14  0.973562  0.095656      0.964833  0.119618       1.069218\n",
       "15  0.974563  0.090589      0.965250  0.117705       1.065152\n",
       "16  0.976146  0.085337      0.967750  0.114334       1.061483\n",
       "17  0.977417  0.080563      0.967000  0.118164       1.057979\n",
       "18  0.978500  0.076502      0.969167  0.109317       1.055002\n",
       "19  0.979750  0.072808      0.969833  0.107571       1.052558\n",
       "20  0.981042  0.068978      0.969750  0.105614       1.050020\n",
       "21  0.982208  0.065708      0.969333  0.106004       1.047916\n",
       "22  0.982896  0.062586      0.971417  0.101550       1.045482\n",
       "23  0.983604  0.059384      0.971583  0.102281       1.042988\n",
       "24  0.984563  0.056657      0.971083  0.101629       1.041219\n",
       "25  0.985458  0.054565      0.971000  0.101760       1.040023\n",
       "26  0.986437  0.051453      0.972167  0.100655       1.037891\n",
       "27  0.986854  0.049648      0.969917  0.100775       1.036502\n",
       "28  0.987833  0.046993      0.972000  0.098830       1.034827\n",
       "29  0.988604  0.044884      0.972083  0.097587       1.033489\n",
       "30  0.988937  0.042850      0.973083  0.096889       1.031787\n",
       "31  0.990042  0.040784      0.971083  0.101223       1.030826\n",
       "32  0.990104  0.039030      0.973167  0.097163       1.029134\n",
       "33  0.990708  0.037352      0.972250  0.096802       1.028061\n",
       "34  0.991500  0.035740      0.973167  0.094202       1.027240\n",
       "35  0.991604  0.034050      0.972833  0.096181       1.025654\n",
       "36  0.991938  0.032710      0.972917  0.097517       1.024647\n",
       "37  0.992667  0.031162      0.973583  0.095392       1.023829\n",
       "38  0.993438  0.029776      0.973000  0.095518       1.023214\n",
       "39  0.993583  0.028226      0.972500  0.097172       1.021810\n",
       "40  0.993646  0.027263      0.972917  0.096547       1.020909\n",
       "41  0.994354  0.025768      0.972500  0.096657       1.020122\n",
       "42  0.994792  0.024822      0.972750  0.094600       1.019614\n",
       "43  0.995062  0.023688      0.973167  0.095421       1.018750\n",
       "44  0.995750  0.022715      0.973333  0.095017       1.018465\n",
       "45  0.995875  0.021654      0.973750  0.097420       1.017529\n",
       "46  0.996063  0.020758      0.973833  0.096715       1.016820\n",
       "47  0.996333  0.019985      0.973167  0.095441       1.016318\n",
       "48  0.996542  0.019151      0.972667  0.097127       1.015693\n",
       "49  0.997208  0.018199      0.973917  0.096990       1.015408"
      ]
     },
     "execution_count": 19,
     "metadata": {},
     "output_type": "execute_result"
    }
   ],
   "source": [
    "df['loss+accuracy']=df['loss']+df['accuracy']\n",
    "df"
   ]
  },
  {
   "cell_type": "code",
   "execution_count": 20,
   "metadata": {},
   "outputs": [
    {
     "name": "stdout",
     "output_type": "stream",
     "text": [
      "\u001b[1m313/313\u001b[0m \u001b[32m━━━━━━━━━━━━━━━━━━━━\u001b[0m\u001b[37m\u001b[0m \u001b[1m1s\u001b[0m 1ms/step\n"
     ]
    }
   ],
   "source": [
    "y_prob=model.predict(x_test)"
   ]
  },
  {
   "cell_type": "code",
   "execution_count": 21,
   "metadata": {},
   "outputs": [],
   "source": [
    "y_pred=y_prob.argmax(axis=1)"
   ]
  },
  {
   "cell_type": "code",
   "execution_count": 22,
   "metadata": {},
   "outputs": [
    {
     "data": {
      "text/plain": [
       "0.9773"
      ]
     },
     "execution_count": 22,
     "metadata": {},
     "output_type": "execute_result"
    }
   ],
   "source": [
    "from sklearn.metrics import accuracy_score\n",
    "accuracy_score(y_test,y_pred)"
   ]
  },
  {
   "cell_type": "code",
   "execution_count": 23,
   "metadata": {},
   "outputs": [
    {
     "data": {
      "text/plain": [
       "[<matplotlib.lines.Line2D at 0x1f303bb5250>]"
      ]
     },
     "execution_count": 23,
     "metadata": {},
     "output_type": "execute_result"
    },
    {
     "data": {
      "image/png": "[encoded data removed]",
      "text/plain": [
       "<Figure size 640x480 with 1 Axes>"
      ]
     },
     "metadata": {},
     "output_type": "display_data"
    }
   ],
   "source": [
    "plt.plot(df['loss'])\n",
    "plt.plot(df['val_loss'])"
   ]
  },
  {
   "cell_type": "code",
   "execution_count": 27,
   "metadata": {},
   "outputs": [
    {
     "name": "stdout",
     "output_type": "stream",
     "text": [
      "\u001b[1m1/1\u001b[0m \u001b[32m━━━━━━━━━━━━━━━━━━━━\u001b[0m\u001b[37m\u001b[0m \u001b[1m0s\u001b[0m 26ms/step\n"
     ]
    }
   ],
   "source": [
    "pred=model.predict(x_test[0].reshape(1,28,28)).argmax(axis=1)"
   ]
  },
  {
   "cell_type": "code",
   "execution_count": 31,
   "metadata": {},
   "outputs": [
    {
     "data": {
      "text/plain": [
       "7"
      ]
     },
     "execution_count": 31,
     "metadata": {},
     "output_type": "execute_result"
    }
   ],
   "source": [
    "pred[0]"
   ]
  },
  {
   "cell_type": "code",
   "execution_count": null,
   "metadata": {},
   "outputs": [
    {
     "ename": "AttributeError",
     "evalue": "module 'matplotlib.pyplot' has no attribute 'label'",
     "output_type": "error",
     "traceback": [
      "\u001b[1;31m---------------------------------------------------------------------------\u001b[0m",
      "\u001b[1;31mAttributeError\u001b[0m                            Traceback (most recent call last)",
      "Cell \u001b[1;32mIn[34], line 2\u001b[0m\n\u001b[0;32m      1\u001b[0m plt\u001b[38;5;241m.\u001b[39mimshow(x_test[\u001b[38;5;241m0\u001b[39m])\n\u001b[1;32m----> 2\u001b[0m \u001b[43mplt\u001b[49m\u001b[38;5;241;43m.\u001b[39;49m\u001b[43mlabel\u001b[49m(\u001b[38;5;28mstr\u001b[39m(pred[\u001b[38;5;241m0\u001b[39m]))\n",
      "\u001b[1;31mAttributeError\u001b[0m: module 'matplotlib.pyplot' has no attribute 'label'"
     ]
    },
    {
     "data": {
      "image/png": "[encoded data removed]",
      "text/plain": [
       "<Figure size 640x480 with 1 Axes>"
      ]
     },
     "metadata": {},
     "output_type": "display_data"
    }
   ],
   "source": [
    "plt.imshow(x_test[0])\n",
    "plt.ylabel(pred)"
   ]
  },
  {
   "cell_type": "code",
   "execution_count": null,
   "metadata": {},
   "outputs": [],
   "source": []
  }
 ],
 "metadata": {
  "kernelspec": {
   "display_name": "Python 3",
   "language": "python",
   "name": "python3"
  },
  "language_info": {
   "codemirror_mode": {
    "name": "ipython",
    "version": 3
   },
   "file_extension": ".py",
   "mimetype": "text/x-python",
   "name": "python",
   "nbconvert_exporter": "python",
   "pygments_lexer": "ipython3",
   "version": "3.11.9"
  }
 },
 "nbformat": 4,
 "nbformat_minor": 2
}
